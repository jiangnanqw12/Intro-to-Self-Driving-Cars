{
 "cells": [
  {
   "cell_type": "markdown",
   "metadata": {},
   "source": [
    "# The Central Limit Theorem and Continuous Probability Distributions\n",
    "\n",
    "Run the code in each of the cells below. Since this is a demonstration, you do not need to add any code. \n",
    "\n",
    "You have an understanding of discrete probability distributions and how they apply to self-driving cars. Now you will gain intuition about one of the most important continuous probability distributions. \n",
    "\n",
    "There is a specific continuous probability distribution that comes up time and time again when working with self-driving cars: the normal distribution (aka Gaussian Distribution). \n",
    "\n",
    "The normal distribution has a special characteristic in that the mean, median and mode are all the same. Run the code in the next cell to see what a normal distribution looks like."
   ]
  },
  {
   "cell_type": "code",
   "execution_count": null,
   "metadata": {
    "collapsed": true
   },
   "outputs": [],
   "source": [
    "# import libraries used in the notebook\n",
    "%matplotlib inline\n",
    "\n",
    "import numpy as np\n",
    "from scipy import stats\n",
    "from matplotlib import mlab\n",
    "import matplotlib.pyplot as plt\n",
    "\n",
    "# Set figure height and width\n",
    "fig_size = plt.rcParams[\"figure.figsize\"]\n",
    "fig_size[0] = 8\n",
    "fig_size[1] = 6\n",
    "plt.rcParams[\"figure.figsize\"] = fig_size\n",
    "\n",
    "x = np.linspace(-12, 12, 100)\n",
    "plt.title('Normal distribution \\n mean = 0 \\n standard deviation = ' + str(3))\n",
    "plt.xlabel('value')\n",
    "plt.ylabel('distribution')\n",
    "plt.plot(x,mlab.normpdf(x, 0, 3))    \n"
   ]
  },
  {
   "cell_type": "markdown",
   "metadata": {},
   "source": [
    "Like in a discrete probability distribution, the area under the curve represents probability. The difference between a discrete distribution and a continuous distribution is the lack of sudden jumps in the continuous distribution.\n",
    "\n",
    "In self-driving cars, the normal distribution is especially important when detecting other vehicles, pedestrians, animals, bicycles, etc. \n",
    "\n",
    "Say there is a bicycle moving around your self-driving car. \n",
    "\n",
    "A radar measurement might tell you there is a bicycle 10 feet in front of the car, but there is some uncertainty in that measurement. The uncertainty is generally modeled with a normal distribution. \n",
    "\n",
    "In between radar measurements, the self-driving car still needs to be aware of the bicycle's location. So the car will extrapolate where it thinks the bicycle is moving. The uncertainty in the bicycle's location will also be modeled with a normal distribution.\n",
    "\n",
    "![title](bicycle.jpg)\n",
    "\n",
    "The bicycle is most likely in the center of the distribution, but there is still some probability that the bicycle is higher or lower according to the normal distribution."
   ]
  },
  {
   "cell_type": "markdown",
   "metadata": {},
   "source": [
    "# Normal Distribution Intuition\n",
    "\n",
    "Compared to some other continuous probability distributions, the normal distribution is relatively easy to work with. And the distribution works well when modelling uncertainty in sensor measurements and object detection.\n",
    "\n",
    "In the Kalman Filter lessons, you will learn more about the characteristics of the distribution and see how to work with it. For now, you'll use this demo to gain intuition about the normal distribution. \n",
    "\n",
    "\n"
   ]
  },
  {
   "cell_type": "markdown",
   "metadata": {},
   "source": [
    "# Probability Distributions\n",
    "\n",
    "Before you start the demo, let's look at a few examples of probability distributions. Run the code below to visualize a few common continuous probability distributions."
   ]
  },
  {
   "cell_type": "code",
   "execution_count": null,
   "metadata": {
    "collapsed": true
   },
   "outputs": [],
   "source": [
    "x = np.linspace(-12, 12, 100)\n",
    "\n",
    "plt.subplot(221)\n",
    "plt.plot(x,mlab.normpdf(x, 0, 3)) \n",
    "plt.title('Normal Distribution')\n",
    "\n",
    "plt.subplot(222)\n",
    "plt.plot(x,stats.uniform.pdf(x,-5,10))\n",
    "plt.title('Uniform Distribution')\n",
    "\n",
    "plt.subplot(223)\n",
    "plt.plot(x[x > -1],stats.chi2.pdf(x[x>-1],3))\n",
    "plt.title('Chi2 Distribution')\n",
    "\n",
    "plt.subplot(224)\n",
    "plt.plot(x[x > -1],stats.lognorm.pdf(x[x > -1],3))\n",
    "plt.title('Logarithmic Distribution')\n",
    "\n",
    "plt.subplots_adjust(hspace=.5)\n"
   ]
  },
  {
   "cell_type": "markdown",
   "metadata": {},
   "source": [
    "# Central Limit Theorem\n",
    "\n",
    "To gain intuition about the normal distribution, you are going to learn about the central limit theorem. \n",
    "\n",
    "The basic principle is that you can start out with any type probability distribution and transform it into a normal distribution. But of course it's a little bit more complicated than that.\n",
    "\n",
    "You need to take samples from the probability distribution and then calculate the mean of each sample. You do this over and over again taking the mean of a random sample. The probability distribution of these means will be normal. \n",
    "\n",
    "First, you are going to go through an example to see how the central limit theorem works. Then you'll be provided with a function where you can play around with different probability distributions to convince yourself that the central limit theorem works."
   ]
  },
  {
   "cell_type": "markdown",
   "metadata": {},
   "source": [
    "# An unknown probability distribution\n",
    "\n",
    "Here is a function that creates a probability distribution that you probably would not find in nature. Run the cell below to create the distribution and see a histogram of the population that you will draw random samples from."
   ]
  },
  {
   "cell_type": "code",
   "execution_count": null,
   "metadata": {
    "collapsed": true
   },
   "outputs": [],
   "source": [
    "def probabilities(sample_distribution, trials, num_bins):\n",
    "    \n",
    "    # array from 1 to sample_distribution\n",
    "    pers = np.arange(1,sample_distribution + 1,1)\n",
    "    \n",
    "    # calculate array of relative probabilities for each sample\n",
    "    lower = int(.35*len(pers))\n",
    "    middle = int(.2*len(pers))\n",
    "    upper = int(.40*len(pers))\n",
    "    extreme = len(pers) - (lower + middle + upper)\n",
    "    \n",
    "    prob = [1.0]*(lower) + [.5]*middle + [2.0]*upper + [.5]*extreme\n",
    "    \n",
    "    # normalize probability distribution\n",
    "    prob /= np.sum(prob)\n",
    "\n",
    "    # take a random sample for number of times in trials variable\n",
    "    probability_distribution = np.random.choice(pers, trials, p=prob)\n",
    "\n",
    "    # visualize distribution\n",
    "    plt.hist(probability_distribution, bins = num_bins)\n",
    "    plt.title('Histogram of the Population')\n",
    "    plt.xlabel('Value from the Population')\n",
    "    plt.ylabel('Count')\n",
    "    plt.show()\n",
    "    \n",
    "    # return random sample size of trials variable\n",
    "    return probability_distribution\n",
    "\n",
    "### create a distribution from the probabilities() function\n",
    "probability_distribution = probabilities(50,10000,100)"
   ]
  },
  {
   "cell_type": "markdown",
   "metadata": {},
   "source": [
    "The population of values definitely does not have a normal distribution. Run the next cell to calculate the mean of this population:\n"
   ]
  },
  {
   "cell_type": "code",
   "execution_count": null,
   "metadata": {
    "collapsed": true
   },
   "outputs": [],
   "source": [
    "print('population mean', np.mean(probability_distribution))"
   ]
  },
  {
   "cell_type": "markdown",
   "metadata": {},
   "source": [
    "##### Code for the Central Limit Theorem\n",
    "\n",
    "The code in the next cell is going to randomly take 10 samples from the distribution:\n",
    "\n",
    "```\n",
    "for sample in range(10):\n",
    "    samples.append(distribution[np.random.randint(1,len(distribution))])\n",
    "```\n",
    "\n",
    "and then calculate the mean of the samples.\n",
    "\n",
    "```\n",
    "sample_means.append(np.mean(samples))\n",
    "```\n",
    "\n",
    "Notice that the code is storing the mean of each set into the `sample_means` list.\n",
    "\n",
    "Then the code will repeat this process one-hundred thousand times storing every calculated mean into the `sample_means` list.\n",
    "\n",
    "Finally, the code will output a histogram of the original population alongside a histogram of the sample means. \n",
    "\n",
    "Run the code cell below to see the central limit theorem in action:"
   ]
  },
  {
   "cell_type": "code",
   "execution_count": null,
   "metadata": {
    "collapsed": true
   },
   "outputs": [],
   "source": [
    "# take samples from the distribution and calculate the mean of each sample\n",
    "iterations = 100000\n",
    "num_samples = 10\n",
    "distribution = probability_distribution\n",
    "sample_means = []\n",
    "\n",
    "# iterate through picking samples and calculating the mean of each sample\n",
    "for iteration in range(iterations):\n",
    "\n",
    "    samples = []\n",
    "\n",
    "    # iterate through for the sample size chosen and randomly pick samples\n",
    "    for sample in range(num_samples):\n",
    "        samples.append(distribution[np.random.randint(1,len(distribution))])\n",
    "\n",
    "    # calculate the mean of the sample\n",
    "    sample_means.append(np.mean(samples))\n",
    "\n",
    "# Plot the distribution of the sample means alongside the population histogram\n",
    "ax1 = plt.subplot(121)\n",
    "plt.hist(distribution, bins=200)\n",
    "plt.title('Histogram of the Population')\n",
    "plt.xlabel('Value')\n",
    "plt.ylabel('Count')\n",
    "\n",
    "ax2 = plt.subplot(122, sharex=ax1, sharey=ax1)\n",
    "plt.hist(sample_means, bins=200)\n",
    "plt.title('Histogram of the Sample Means')\n",
    "plt.xlabel('Value')\n",
    "plt.ylabel('Count')\n",
    "\n",
    "plt.show()"
   ]
  },
  {
   "cell_type": "markdown",
   "metadata": {},
   "source": [
    "Pretty amazing! Think about what this means. You started out with a population that did not look normal at all. You then took random samples with a size of 10, and then calculated the mean of the samples. You did this over and over again, and the distribution of the sample means looks normal. \n",
    "\n",
    "##### Increasing Sample Size\n",
    "Let's see what happens if the sample size goes up to 50. Run the code below:"
   ]
  },
  {
   "cell_type": "code",
   "execution_count": null,
   "metadata": {
    "collapsed": true
   },
   "outputs": [],
   "source": [
    "# take samples from the distribution and calculate the mean of each sample\n",
    "iterations = 100000\n",
    "num_samples = 50\n",
    "distribution = probability_distribution\n",
    "sample_means = []\n",
    "\n",
    "# iterate through picking samples and calculating the mean of each sample\n",
    "for iteration in range(iterations):\n",
    "\n",
    "    samples = []\n",
    "\n",
    "    # iterate through for the sample size chosen and randomly pick samples\n",
    "    for sample in range(num_samples):\n",
    "        samples.append(distribution[np.random.randint(1,len(distribution))])\n",
    "\n",
    "    # calculate the mean of the sample\n",
    "    sample_means.append(np.mean(samples))\n",
    "\n",
    "# Plot the distribution of the sample means alongside the population histogram\n",
    "ax3 = plt.subplot(121)\n",
    "plt.hist(distribution, bins=200)\n",
    "plt.title('Histogram of the Population')\n",
    "plt.xlabel('Value')\n",
    "plt.ylabel('Count')\n",
    "\n",
    "ax4 = plt.subplot(122, sharex=ax3, sharey=ax3)\n",
    "plt.hist(sample_means, bins=200)\n",
    "plt.title('Histogram of the Sample Means')\n",
    "plt.xlabel('Value')\n",
    "plt.ylabel('Count')\n",
    "\n",
    "plt.show()"
   ]
  },
  {
   "cell_type": "markdown",
   "metadata": {},
   "source": [
    "It looks like the normal distribution got 'peakier' and the range of values on the x-axis got smaller. \n",
    "\n",
    "That's very interesting! As your sample size increases, it seems to be more likely that your sample mean will be close to the population mean, which was about 29. This makes sense intuitively. The population had 10,000 values in it. If your sample has 9,999 randomly chosen values, you'll get close to the actual mean. If you take 1 sample, it's very likely that your value is far from the mean.\n",
    "\n",
    "That is one reason why you might see recommendations to use at least 20, 30 or 50 samples when taking measurements and running experiments. The larger your sample size, the more likely it becomes that your sample mean is equal to the population mean."
   ]
  },
  {
   "cell_type": "markdown",
   "metadata": {},
   "source": [
    "##### Sample Means and the Normal Distribution\n",
    "\n",
    "To convince yourself that the new distribution is close to a normal distribution, you are going to output two more visualizations. \n",
    "\n",
    "The first visualization will adjust the distribution so that the area of all the bars adds up to 1. The chart will also show a normal distribution that has the same mean and standard deviation of the sample means."
   ]
  },
  {
   "cell_type": "code",
   "execution_count": null,
   "metadata": {
    "collapsed": true
   },
   "outputs": [],
   "source": [
    "# normalized histogram of the sample means and an equivalent normal distribution with same mean and standard deviation \n",
    "fig = plt.figure(figsize=(8, 3)) \n",
    "\n",
    "plt.hist(sample_means, bins=50, normed=True)\n",
    "plt.title('Normalized Histogram of Sample Means and \\n Equivalent Normal Distribution')\n",
    "plt.xlabel('Value')\n",
    "plt.ylabel('Count')\n",
    "\n",
    "x = np.linspace(min(sample_means), max(sample_means), 1000)\n",
    "plt.plot(x,mlab.normpdf(x, np.mean(sample_means),np.std(sample_means)))    \n",
    "\n",
    "plt.show()\n"
   ]
  },
  {
   "cell_type": "markdown",
   "metadata": {},
   "source": [
    "The distribution of the sample means looks pretty similar to the continuous normal distribution. \n",
    "\n",
    "Here is one more visualization to help convince you that the sample means distribution is getting close to normal. The following are [probability plots](http://www.itl.nist.gov/div898/handbook/eda/section3/normprpl.htm). The x-axis has the values from your distribution and the y-axis has ideal values if the distribution were normal. A completely normal distribution would therefore be a straight line. \n",
    "\n",
    "Run the code cell below to compare the probability plot of the population with the probability plot of the sample means. "
   ]
  },
  {
   "cell_type": "code",
   "execution_count": null,
   "metadata": {
    "collapsed": true
   },
   "outputs": [],
   "source": [
    "### Compare population distribution with sample mean distribution\n",
    "\n",
    "fig = plt.figure(figsize=(8, 3)) \n",
    "\n",
    "ax5 = plt.subplot(121)\n",
    "stats.probplot(probability_distribution, plot=plt)\n",
    "ax6 = plt.subplot(122)\n",
    "stats.probplot(sample_means, plot=plt)\n",
    "\n",
    "ax5.set_title('Probability Plot of the Population')\n",
    "ax6.set_title('Probability Plot of the Sample Means')\n"
   ]
  },
  {
   "cell_type": "markdown",
   "metadata": {},
   "source": [
    "So it looks like the distribution of the sample means (sample size was 30), is much closer to a normal distribution than the original population."
   ]
  },
  {
   "cell_type": "markdown",
   "metadata": {},
   "source": [
    "# Explore on Your Own\n",
    "\n",
    "Now you can convince yourself that different probability distributions still work with the central limit theorem.  Here are a set of functions to create different types of probability distributions. \n",
    "\n",
    "Make sure to run the cells below before trying to use these functions."
   ]
  },
  {
   "cell_type": "code",
   "execution_count": null,
   "metadata": {
    "collapsed": true
   },
   "outputs": [],
   "source": [
    "### Probability distributions\n",
    "\n",
    "def random_uniform(low_value, high_value, num_samples):    \n",
    "    return np.random.uniform(low_value, high_value, num_samples)\n",
    "\n",
    "### Poisson Distribution\n",
    "def poisson_distribution(expectation, num_samples):\n",
    "    return np.random.poisson(expectation, num_samples)\n",
    "\n",
    "def binomial_distribution(result, probability, trials):\n",
    "    return np.random.binomial(result, probability, trials)\n"
   ]
  },
  {
   "cell_type": "markdown",
   "metadata": {},
   "source": [
    "And here is some example code of how to create distributions from the functions given. These distributions will be your populations."
   ]
  },
  {
   "cell_type": "code",
   "execution_count": null,
   "metadata": {
    "collapsed": true
   },
   "outputs": [],
   "source": [
    "uniform = random_uniform(1, 5, 100000)\n",
    "poisson = poisson_distribution(6.0, 10000)\n",
    "binomial = binomial_distribution(1, 0.5, 10000)"
   ]
  },
  {
   "cell_type": "markdown",
   "metadata": {},
   "source": [
    "We've provided a function that does all of the central limit theorem analysis for you. The function below receives a probability distribution and then takes random samples over and over again. The mean of each sample is calculated, and then the resulting statistics and histograms are displayed. Run the code cell below to initialize the function:"
   ]
  },
  {
   "cell_type": "code",
   "execution_count": null,
   "metadata": {
    "collapsed": true
   },
   "outputs": [],
   "source": [
    "### Shows Central Limit Theorem: takes samples from a distribution and calculates the mean of each sample. \n",
    "#\n",
    "# variables:\n",
    "# distribution => array containing values from a population\n",
    "# iterations => number of times to draw samples and calculate the mean of the sample\n",
    "# num_samples => sample size\n",
    "# num_bins => controls number of bins in the histograms3\n",
    "#\n",
    "# outputs:\n",
    "# (1) summary statistics of the population and the means of the samples\n",
    "# (2) histogram of the population and means of the samples\n",
    "# (3) normalized histogram of the means and line chart of equivalent normal distribution with same mean and stdeviation\n",
    "# (4) probability plot of the original distribution and the means of the samples\n",
    "#\n",
    "###\n",
    "\n",
    "def sample_means_calculator(distribution, iterations, num_samples, num_bins):\n",
    "    \n",
    "    # take samples from the distribution and calculate the mean of each sample\n",
    "    sample_means = []\n",
    "    \n",
    "    # iterate through picking samples and calculating the mean of each sample\n",
    "    for iteration in range(iterations):\n",
    "    \n",
    "        samples = []\n",
    "        \n",
    "        # iterate through for the sample size chosen and randomly pick samples\n",
    "        for sample in range(num_samples):\n",
    "            samples.append(distribution[np.random.randint(1,len(distribution))])\n",
    "    \n",
    "        # calculate the mean of the sample\n",
    "        sample_means.append(np.mean(samples))\n",
    "\n",
    "\n",
    "    # Calculate summary statistics for the population and the sample means\n",
    "    population_mean = np.average(distribution)\n",
    "    population_median = np.median(distribution)\n",
    "    population_deviation = np.std(distribution)\n",
    "        \n",
    "    sample_mean = np.mean(sample_means)\n",
    "    sample_median = np.median(sample_means)\n",
    "    sample_deviation = np.std(sample_means)\n",
    "\n",
    "    print('population mean ', population_mean, ' \\n population median ', population_median, '\\n population standard deviation ', population_deviation)\n",
    "    print('\\n mean of sample means ', sample_mean, '\\n median of sample means ', sample_median, '\\n standard deviation of sample means ', sample_deviation)\n",
    "    \n",
    "    # histogram of the population and histogram of sample means\n",
    "    fig = plt.figure(figsize=(8, 4)) \n",
    "\n",
    "    ax1 = plt.subplot(121)\n",
    "    plt.hist(distribution, bins=num_bins)\n",
    "    plt.title('Histogram of the Population')\n",
    "    plt.xlabel('Value')\n",
    "    plt.ylabel('Count')\n",
    "    \n",
    "    ax2 = plt.subplot(122, sharex=ax1, sharey=ax1)\n",
    "    plt.hist(sample_means, bins=num_bins)\n",
    "    plt.title('Histogram of the Sample Means')\n",
    "    plt.xlabel('Value')\n",
    "    plt.ylabel('Count')\n",
    "        \n",
    "    plt.show()\n",
    "    \n",
    "    # normalized histogram of the sample means and an equivalent normal distribution with same mean and standard deviation \n",
    "    fig = plt.figure(figsize=(8, 3)) \n",
    "\n",
    "    plt.hist(sample_means, bins=num_bins, normed=True)\n",
    "    plt.title('Normalized Histogram of Sample Means and \\n Equivalent Normal Distribution')\n",
    "    plt.xlabel('Value')\n",
    "    plt.ylabel('Count')\n",
    "\n",
    "    x = np.linspace(min(sample_means), max(sample_means), 1000)\n",
    "    plt.plot(x,mlab.normpdf(x, sample_mean, sample_deviation))    \n",
    "    \n",
    "    plt.show()\n",
    "    \n",
    "    # probability plots showing how the sample mean distribution is more normal than the population mean\n",
    "    fig = plt.figure(figsize=(8, 3)) \n",
    "   \n",
    "    ax5 = plt.subplot(121)\n",
    "    stats.probplot(distribution, plot=plt)\n",
    "    ax6 = plt.subplot(122)\n",
    "    stats.probplot(sample_means, plot=plt)\n",
    "    \n",
    "    ax5.set_title('Probability Plot of the Population')\n",
    "    ax6.set_title('Probability Plot of the Sample Means')\n",
    "\n",
    "    plt.show()"
   ]
  },
  {
   "cell_type": "markdown",
   "metadata": {},
   "source": [
    "Now you can call the function like this:\n",
    "\n",
    "`sample_means_calculator(distribution, iterations, num_samples, num_bins)`\n",
    "\n",
    "Run the code cell below to see how the function works. The distribution variable is a population distribution. Iterations is how many times you want to sample the population. Num_samples is the sample size. And num_bins says how many bins to use for the histogram output.\n",
    "\n",
    "It might take a minute or so to get the output depending on the size of your population, the sample size for showing the central limit theorem, etc. "
   ]
  },
  {
   "cell_type": "code",
   "execution_count": null,
   "metadata": {
    "collapsed": true
   },
   "outputs": [],
   "source": [
    "### Take samples and calculate the sample means for central limit theorem\n",
    "sample_means_calculator(uniform, 100000, 50, 100)"
   ]
  },
  {
   "cell_type": "markdown",
   "metadata": {},
   "source": [
    "# Your Turn\n",
    "\n",
    "Now it's your turn to try different probability distributions and see the outcome. We have provided three functions that you can play around with for creating your population values. Feel free to create other types of distributions until you've convinced yourself that the central limit theorem works. Try adjusting the population distributions, the sample sizes, the number of iterations, etc. \n",
    "\n",
    "Here is some code to help you get started. Try changing the sample size, for example, to see how sample size affects results. What about the number of iterations, which controls the number of samples that will be taken from the population?"
   ]
  },
  {
   "cell_type": "code",
   "execution_count": null,
   "metadata": {
    "collapsed": true
   },
   "outputs": [],
   "source": [
    "### Sample Code\n",
    "# sample_means_calculator(random_uniform(1,10,100000), 10000, 50, 100)\n",
    "# sample_means_calculator(poisson_distribution(6.0,500000), 10000, 90, 100)\n",
    "# sample_means_calculator(binomial_distribution(1, 0.5, 10000), 10000, 200, 100)\n",
    "#\n",
    "# sample_means_calculator(distribution, number_of_iterations, sample_size, histogram_bins)\n",
    "#\n",
    "###\n"
   ]
  }
 ],
 "metadata": {
  "kernelspec": {
   "display_name": "Python 3",
   "language": "python",
   "name": "python3"
  },
  "language_info": {
   "codemirror_mode": {
    "name": "ipython",
    "version": 3
   },
   "file_extension": ".py",
   "mimetype": "text/x-python",
   "name": "python",
   "nbconvert_exporter": "python",
   "pygments_lexer": "ipython3",
   "version": "3.6.3"
  }
 },
 "nbformat": 4,
 "nbformat_minor": 2
}
