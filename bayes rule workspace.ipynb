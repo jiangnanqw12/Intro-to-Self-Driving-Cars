{
 "cells": [
  {
   "cell_type": "markdown",
   "metadata": {},
   "source": [
    "# Bayes Rule Workspace\n",
    "This lesson contains more **exercises** than usual. These exercises are graded for correctness by Udacity's autograder but some students prefer programming in Jupyter Notebooks over Udacity's programming environment. \n",
    "\n",
    "This workspace can be opened in a new tab and used as a place to write and debug your code before you actually do a \"Test Run\" or \"Submit\" in the Udacity environment. \n",
    "\n",
    "You're also welcome to ignore this workspace completely if you prefer!"
   ]
  },
  {
   "cell_type": "markdown",
   "metadata": {},
   "source": [
    "### Programming Probabilities [exercise]"
   ]
  },
  {
   "cell_type": "code",
   "execution_count": 3,
   "metadata": {},
   "outputs": [
    {
     "name": "stdout",
     "output_type": "stream",
     "text": [
      "complement of 0.2 is 0\n"
     ]
    }
   ],
   "source": [
    "def complement(p_A):\n",
    "    complement = 0\n",
    "    \n",
    "    return complement\n",
    "\n",
    "p_test = 0.2\n",
    "print(\"complement of\", p_test, \"is\", complement(p_test))"
   ]
  },
  {
   "cell_type": "markdown",
   "metadata": {},
   "source": [
    "### Total Probability [exercise]"
   ]
  },
  {
   "cell_type": "code",
   "execution_count": 2,
   "metadata": {},
   "outputs": [
    {
     "name": "stdout",
     "output_type": "stream",
     "text": [
      "probability of positive result is 0\n"
     ]
    }
   ],
   "source": [
    "def total_probability(p_disease, p_pos_given_disease, p_pos_given_no_disease):\n",
    "    total = 0  \n",
    "    \n",
    "    return total\n",
    "\n",
    "p_disease = 0.2\n",
    "p_pos_given_disease= 0.6\n",
    "p_pos_given_no_disease= 0.6\n",
    "\n",
    "P_POS = total_probability(p_disease, p_pos_given_disease, p_pos_given_no_disease)\n",
    "print(\"probability of positive result is\", P_POS)"
   ]
  },
  {
   "cell_type": "markdown",
   "metadata": {},
   "source": [
    "### Programming Bayes' Rule [exercise]"
   ]
  },
  {
   "cell_type": "code",
   "execution_count": 4,
   "metadata": {},
   "outputs": [
    {
     "name": "stdout",
     "output_type": "stream",
     "text": [
      "probability of A given B is 0\n"
     ]
    }
   ],
   "source": [
    "def bayes_rule(p_A, p_B_given_A, p_notB_given_notA):\n",
    "    posterior = 0\n",
    "    \n",
    "    return posterior\n",
    "\n",
    "\n",
    "## TODO: Change these values and click Test Run \n",
    "## to see the output of your function and get feedback\n",
    "p_A = 0.2\n",
    "p_B_given_A = 0.9\n",
    "p_notB_given_notA = 0.5\n",
    "\n",
    "P_A_GIVEN_B = bayes_rule(p_A, p_B_given_A, p_notB_given_notA)\n",
    "print(\"probability of A given B is\", P_A_GIVEN_B)"
   ]
  },
  {
   "cell_type": "markdown",
   "metadata": {},
   "source": [
    "### Array Iteration and Stopping [exercise]"
   ]
  },
  {
   "cell_type": "code",
   "execution_count": 7,
   "metadata": {},
   "outputs": [
    {
     "name": "stdout",
     "output_type": "stream",
     "text": [
      "for the road ['r' 'r' 'r' 'r' 'r' 's' 'r']\n",
      "the stop sign occurs after the cell with index 0\n"
     ]
    }
   ],
   "source": [
    "import numpy as np\n",
    "\n",
    "# The 1x7 road\n",
    "road = np.array(['r', 'r', 'r', 'r', 'r', 's', 'r'])\n",
    "\n",
    "# This function takes in the road and determines where to stop\n",
    "# Complete this function so that it returns the index of the cell\n",
    "# That is *right before* the stop sign (ex. 0, if the stop sign is at index 1)!\n",
    "def find_stop_index(road):\n",
    "    ## TODO: Iterate through the road array\n",
    "    ## TODO: Check if a stop sign ('s') is found in the array\n",
    "    ## If one is, break out of your iteration\n",
    "    ## and return the value of the index that is *right before* the stop sign\n",
    "    ## Change the stop_index value\n",
    "    stop_index = 0\n",
    "    return stop_index\n",
    "\n",
    "\n",
    "# This line calls the stop function and stores the output - do not delete\n",
    "stop = find_stop_index(road)\n",
    "\n",
    "print(\"for the road\", road)\n",
    "print(\"the stop sign occurs after the cell with index\", stop)"
   ]
  },
  {
   "cell_type": "markdown",
   "metadata": {
    "collapsed": true
   },
   "source": [
    "### Pattern Matching [exercise]"
   ]
  },
  {
   "cell_type": "code",
   "execution_count": 8,
   "metadata": {},
   "outputs": [
    {
     "name": "stdout",
     "output_type": "stream",
     "text": [
      "After observing the measurement ['b', 'o']\n",
      "in the world\n",
      " [['o' 'b' 'o' 'o' 'b']\n",
      " ['o' 'o' 'b' 'o' 'o']\n",
      " ['b' 'o' 'o' 'b' 'o']\n",
      " ['b' 'o' 'o' 'o' 'o']]\n",
      "there are 0 possible vehicle locations\n",
      "they are:\n"
     ]
    }
   ],
   "source": [
    "import numpy as np\n",
    "\n",
    "# A 5x4 robot world of characters 'o' and 'b'\n",
    "world = np.array([ ['o', 'b', 'o', 'o', 'b'],\n",
    "                   ['o', 'o', 'b', 'o', 'o'],\n",
    "                   ['b', 'o', 'o', 'b', 'o'],\n",
    "                   ['b', 'o', 'o', 'o', 'o'] ])\n",
    "\n",
    "# Sensor measurement\n",
    "measurement = ['b', 'o']\n",
    "\n",
    "# This function takes in the world and the sensor measurement.\n",
    "# Complete this function so that it returns the indices of the \n",
    "# likely robot locations, based on matching the measurement \n",
    "# with the color patterns in the world\n",
    "\n",
    "def find_match(world, measurement):\n",
    "    # Empty possible_locations list\n",
    "    possible_locations = []\n",
    "    \n",
    "    ## TODO: Iterate through the world \n",
    "    ## Look at two adjacent indices at a time - the square the robot is \n",
    "    ## on top of and the square to its right\n",
    "    ## (Making sure not to go past the bounds of the world)\n",
    "    \n",
    "    ## TODO: If two adjacent colors in the world match \n",
    "    ## the two colors in the sensor measurement\n",
    "    ## Add those indices to the possible_locations list\n",
    "    ## Append them in the format [row_index, column_index], i.e. [0, 0]\n",
    "    \n",
    "    return possible_locations\n",
    "   \n",
    "\n",
    "# This line runs the function and stores the output - do not delete \n",
    "locations = find_match(world, measurement)\n",
    "\n",
    "print(\"After observing the measurement\", measurement)\n",
    "print(\"in the world\\n\", world)\n",
    "print(\"there are\", len(locations), \"possible vehicle locations\")\n",
    "print(\"they are:\")\n",
    "for location in locations:\n",
    "    print(location)"
   ]
  },
  {
   "cell_type": "code",
   "execution_count": null,
   "metadata": {
    "collapsed": true
   },
   "outputs": [],
   "source": []
  }
 ],
 "metadata": {
  "kernelspec": {
   "display_name": "Python 3",
   "language": "python",
   "name": "python3"
  },
  "language_info": {
   "codemirror_mode": {
    "name": "ipython",
    "version": 3
   },
   "file_extension": ".py",
   "mimetype": "text/x-python",
   "name": "python",
   "nbconvert_exporter": "python",
   "pygments_lexer": "ipython3",
   "version": "3.6.1"
  }
 },
 "nbformat": 4,
 "nbformat_minor": 2
}
