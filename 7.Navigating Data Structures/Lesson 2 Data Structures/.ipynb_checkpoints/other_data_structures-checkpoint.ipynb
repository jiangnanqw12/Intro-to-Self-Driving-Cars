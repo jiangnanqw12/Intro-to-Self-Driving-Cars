{
 "cells": [
  {
   "cell_type": "markdown",
   "metadata": {},
   "source": [
    "# Other Data Structures [optional]\n",
    "\n",
    "The purpose of this notebook is to show you some of the many other data structures you can use without going into too much detail. You can learn more by reading [documentation from Python's collections library](https://docs.python.org/3.3/library/collections.html)."
   ]
  },
  {
   "cell_type": "markdown",
   "metadata": {},
   "source": [
    "## 1. Tuples\n",
    "\n",
    "The only standard library data structure that we haven't discussed. The tuple is an immutable (unchangeable) sequence of Python objects.\n",
    "\n",
    "The tuple is very similar to a list. You can read more about it in the [Python tuple documentation](https://docs.python.org/3/tutorial/datastructures.html#tuples-and-sequences)"
   ]
  },
  {
   "cell_type": "code",
   "execution_count": null,
   "metadata": {},
   "outputs": [],
   "source": [
    "# tuples are created with (parentheses)\n",
    "\n",
    "my_tuple = (1,2,3)\n",
    "print(my_tuple)\n",
    "print(type(my_tuple))"
   ]
  },
  {
   "cell_type": "code",
   "execution_count": null,
   "metadata": {},
   "outputs": [],
   "source": [
    "# elements can be accessed just like they are with lists.\n",
    "\n",
    "print( my_tuple[0] )\n",
    "print( my_tuple[1] )\n",
    "print( my_tuple[2] )"
   ]
  },
  {
   "cell_type": "code",
   "execution_count": null,
   "metadata": {},
   "outputs": [],
   "source": [
    "# there are some things you can't do with tuples \n",
    "# due to them being immutable.\n",
    "\n",
    "my_tuple[1] = 4"
   ]
  },
  {
   "cell_type": "code",
   "execution_count": null,
   "metadata": {},
   "outputs": [],
   "source": [
    "# but there are also some things you CAN do with tuples\n",
    "# that you can't do with lists...\n",
    "\n",
    "t1 = ('a','b','c')\n",
    "t2 = (1, 2, 3)\n",
    "\n",
    "set_of_tuples = set()\n",
    "\n",
    "set_of_tuples.add(t1)\n",
    "set_of_tuples.add(t2)\n",
    "\n",
    "print(set_of_tuples)"
   ]
  },
  {
   "cell_type": "code",
   "execution_count": null,
   "metadata": {},
   "outputs": [],
   "source": [
    "L1 = ['a','b','c']\n",
    "L2 = [1, 2, 3]\n",
    "\n",
    "set_of_lists = set()\n",
    "\n",
    "set_of_lists.add(L1)\n",
    "set_of_lists.add(L2)\n",
    "\n",
    "print(set_of_lists)"
   ]
  },
  {
   "cell_type": "markdown",
   "metadata": {},
   "source": [
    "## 2. Namedtuple\n",
    "\n",
    "Very similar to a tuple except the fields can be named as well! I use namedtuples when I want to use `object.property` notation but don't want to define a full class."
   ]
  },
  {
   "cell_type": "code",
   "execution_count": null,
   "metadata": {},
   "outputs": [],
   "source": [
    "# named tuple's need to be imported from the collections library\n",
    "from collections import namedtuple\n",
    "\n",
    "# here we define Point as a new type of thing. \n",
    "# It has properties x and y.\n",
    "Point = namedtuple(\"Point\", [\"x\", \"y\"])\n",
    "\n",
    "# here we actually instantiate a point\n",
    "p1 = Point(5, -3)\n",
    "\n",
    "print(p1)"
   ]
  },
  {
   "cell_type": "code",
   "execution_count": null,
   "metadata": {},
   "outputs": [],
   "source": [
    "# there are two ways to access the fields in a point...\n",
    "\n",
    "# ... by position\n",
    "print( p1[0] )\n",
    "print( p1[1] )"
   ]
  },
  {
   "cell_type": "code",
   "execution_count": null,
   "metadata": {},
   "outputs": [],
   "source": [
    "# ... or by name\n",
    "\n",
    "print( p1.x )\n",
    "print( p1.y )"
   ]
  },
  {
   "cell_type": "markdown",
   "metadata": {},
   "source": [
    "## 3. Counter\n",
    "Often we want to count how many times something occurs. The code below demonstrates how to use a `Counter` to count the number of occurrences of various characters in a string."
   ]
  },
  {
   "cell_type": "code",
   "execution_count": null,
   "metadata": {},
   "outputs": [],
   "source": [
    "from collections import Counter\n",
    "\n",
    "string = \"the quick brown fox jumped over the lazy dog\"\n",
    "\n",
    "character_counter = Counter()\n",
    "for character in string:\n",
    "    character_counter[character] += 1\n",
    "    \n",
    "character_counter.most_common()"
   ]
  },
  {
   "cell_type": "markdown",
   "metadata": {},
   "source": [
    "It looks like this string had 8 spaces, 4 e's, 4 o's, etc..."
   ]
  },
  {
   "cell_type": "code",
   "execution_count": null,
   "metadata": {},
   "outputs": [],
   "source": [
    "# something that's nice about counters is that they don't throw \n",
    "# an error if you try to access a key that isn't there. Instead\n",
    "# they return 0.\n",
    "\n",
    "# how many capital A's are in the string above?\n",
    "\n",
    "print(character_counter[\"A\"])"
   ]
  },
  {
   "cell_type": "code",
   "execution_count": null,
   "metadata": {},
   "outputs": [],
   "source": [
    "# but how many lowercase a's?\n",
    "\n",
    "print(character_counter[\"a\"])"
   ]
  },
  {
   "cell_type": "markdown",
   "metadata": {},
   "source": [
    "## 4. defaultdict\n",
    "\n",
    "A default dict is best explained by example. Let's go back to the \"three boxes of tickets\" example from earlier."
   ]
  },
  {
   "cell_type": "code",
   "execution_count": null,
   "metadata": {},
   "outputs": [],
   "source": [
    "TICKET_BOXES = {\n",
    "    \"low\"    : [],\n",
    "    \"medium\" : [],\n",
    "    \"high\"   : []\n",
    "}\n",
    "\n",
    "unfiled_tickets = [\n",
    "    {\n",
    "        \"priority\"    : \"high\",\n",
    "        \"description\" : \"slammed on brakes\"\n",
    "    },\n",
    "    {\n",
    "        \"priority\"    : \"low\",\n",
    "        \"description\" : \"windshield chipped\"\n",
    "    },\n",
    "    {\n",
    "        \"priority\"    : \"low\",\n",
    "        \"description\" : \"failed to use turn signal\"\n",
    "    }\n",
    "    ,\n",
    "    {\n",
    "        \"priority\"    : \"medium\",\n",
    "        \"description\" : \"did not come to complete stop at stop sign\"\n",
    "    }\n",
    "]\n",
    "\n",
    "def file_ticket(ticket):\n",
    "    priority = ticket['priority']\n",
    "    TICKET_BOXES[priority].append(ticket)\n",
    "    \n",
    "for ticket in unfiled_tickets:\n",
    "    file_ticket(ticket)\n",
    "    \n",
    "print(TICKET_BOXES)"
   ]
  },
  {
   "cell_type": "code",
   "execution_count": null,
   "metadata": {},
   "outputs": [],
   "source": [
    "# so far so good! But what if we try to file a ticket\n",
    "# with a priority \"highest\" (as we saw in Jira)?\n",
    "\n",
    "new_ticket = {\n",
    "    \"priority\" : \"highest\",\n",
    "    \"description\": \"vehicle crashed!\"\n",
    "}\n",
    "\n",
    "file_ticket(new_ticket)"
   ]
  },
  {
   "cell_type": "code",
   "execution_count": null,
   "metadata": {},
   "outputs": [],
   "source": [
    "# as expected, we get a key error... one way to fix this\n",
    "# is as follows\n",
    "\n",
    "def file_ticket_fixed(ticket):\n",
    "    priority = ticket['priority']\n",
    "    \n",
    "    # new code\n",
    "    if priority not in TICKET_BOXES:\n",
    "        TICKET_BOXES[priority] = []\n",
    "        \n",
    "    TICKET_BOXES[priority].append(ticket)\n",
    "\n",
    "file_ticket_fixed(new_ticket)\n",
    "print(TICKET_BOXES)"
   ]
  },
  {
   "cell_type": "code",
   "execution_count": null,
   "metadata": {},
   "outputs": [],
   "source": [
    "# OR we can use a \"defaultdict\" \n",
    "from collections import defaultdict\n",
    "\n",
    "TICKET_BOXES = defaultdict(list) # notice the argument of list...\n",
    "\n",
    "def file_ticket(ticket):\n",
    "    priority = ticket['priority']\n",
    "    TICKET_BOXES[priority].append(ticket)\n",
    "\n",
    "for ticket in unfiled_tickets:\n",
    "    file_ticket(ticket)\n",
    "    \n",
    "file_ticket(new_ticket)\n",
    "\n",
    "print(TICKET_BOXES)"
   ]
  },
  {
   "cell_type": "markdown",
   "metadata": {},
   "source": [
    "When you try to access a key that doesn't exist, defaultdict adds that key to the dictionary and associates a **default** value with it (in this case a list).\n",
    "\n",
    "If you want to learn more you can read the [documentation on defaultdict](https://docs.python.org/3.3/library/collections.html#collections.defaultdict)"
   ]
  },
  {
   "cell_type": "markdown",
   "metadata": {},
   "source": [
    "## 5. Other data structures from `collections`"
   ]
  },
  {
   "cell_type": "code",
   "execution_count": null,
   "metadata": {
    "collapsed": true
   },
   "outputs": [],
   "source": [
    "from collections import deque, OrderedDict"
   ]
  },
  {
   "cell_type": "code",
   "execution_count": null,
   "metadata": {},
   "outputs": [],
   "source": [
    "d = deque([4,5,6])\n",
    "print(d)"
   ]
  },
  {
   "cell_type": "code",
   "execution_count": null,
   "metadata": {},
   "outputs": [],
   "source": [
    "d.append(7)\n",
    "print(d)"
   ]
  },
  {
   "cell_type": "code",
   "execution_count": null,
   "metadata": {},
   "outputs": [],
   "source": [
    "d.appendleft(3)\n",
    "print(d)"
   ]
  },
  {
   "cell_type": "code",
   "execution_count": null,
   "metadata": {},
   "outputs": [],
   "source": [
    "last = d.pop()\n",
    "print(\"last element was\", last)\n",
    "print(\"now d is\", d)"
   ]
  },
  {
   "cell_type": "code",
   "execution_count": null,
   "metadata": {},
   "outputs": [],
   "source": [
    "first = d.popleft()\n",
    "print(\"first element was\", first)\n",
    "print(\"now d is\", d)"
   ]
  },
  {
   "cell_type": "code",
   "execution_count": null,
   "metadata": {
    "collapsed": true
   },
   "outputs": [],
   "source": [
    "# # # # #"
   ]
  },
  {
   "cell_type": "code",
   "execution_count": null,
   "metadata": {
    "collapsed": true
   },
   "outputs": [],
   "source": [
    "od = OrderedDict()"
   ]
  },
  {
   "cell_type": "code",
   "execution_count": null,
   "metadata": {
    "collapsed": true
   },
   "outputs": [],
   "source": [
    "od['a'] = 1\n",
    "od['b'] = 2\n",
    "od['c'] = 3"
   ]
  },
  {
   "cell_type": "code",
   "execution_count": null,
   "metadata": {},
   "outputs": [],
   "source": [
    "# as the name implies, an OrderedDict is a dictionary that\n",
    "# keeps track of the order in which elements were added.\n",
    "\n",
    "print(od)"
   ]
  }
 ],
 "metadata": {
  "kernelspec": {
   "display_name": "Python 3",
   "language": "python",
   "name": "python3"
  },
  "language_info": {
   "codemirror_mode": {
    "name": "ipython",
    "version": 3
   },
   "file_extension": ".py",
   "mimetype": "text/x-python",
   "name": "python",
   "nbconvert_exporter": "python",
   "pygments_lexer": "ipython3",
   "version": "3.6.1"
  }
 },
 "nbformat": 4,
 "nbformat_minor": 2
}
