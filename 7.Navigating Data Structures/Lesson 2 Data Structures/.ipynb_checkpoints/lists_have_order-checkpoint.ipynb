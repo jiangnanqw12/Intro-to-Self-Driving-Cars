{
 "cells": [
  {
   "cell_type": "markdown",
   "metadata": {},
   "source": [
    "# Lists have order!\n",
    "\n",
    "In the previous notebook we defined a ticket as a list, but there isn't really any good reason to use a list. Recall how we represented a ticket:"
   ]
  },
  {
   "cell_type": "code",
   "execution_count": 1,
   "metadata": {
    "collapsed": true
   },
   "outputs": [],
   "source": [
    "ticket_1 = [\n",
    "    \"2018-12-31T23:59:59\",\n",
    "    2,\n",
    "    \"Vehicle made unexpected stop at four way intersection.\"\n",
    "]\n",
    "\n",
    "print(\"the type of ticket_1 is\", type(ticket))"
   ]
  },
  {
   "cell_type": "markdown",
   "metadata": {},
   "source": [
    "Think about what this list is **doing**. It's just a container for three pieces of related data. And this data doesn't have any intrinsic order: there's no good reason why the datetime data comes before priority or why the description comes last."
   ]
  },
  {
   "cell_type": "markdown",
   "metadata": {},
   "source": [
    "## Tuples are containers for related data\n",
    "\n",
    "When all we want to do is group related data, a `tuple` is usually a good choice for our data structure. \n",
    "\n",
    "In some ways, tuples are similar to lists. In fact, to define a tuple you just replace the brackets `[]` with parentheses `()`"
   ]
  },
  {
   "cell_type": "code",
   "execution_count": null,
   "metadata": {
    "collapsed": true
   },
   "outputs": [],
   "source": []
  },
  {
   "cell_type": "code",
   "execution_count": null,
   "metadata": {
    "collapsed": true
   },
   "outputs": [],
   "source": [
    "ticket_2 = [\n",
    "    \"2018-12-30T13:35:07\",\n",
    "    1,\n",
    "    \"Vehicle did not yield to pedestrian in intersection\"\n",
    "]\n",
    "\n",
    "ticket_3 = [\n",
    "    \"2018-12-29T13:35:07\",\n",
    "    3,\n",
    "    \"Vehicle was too defensive in attempting to merge on highway.\"\n",
    "]\n",
    "\n",
    "tickets = [ticket_1, ticket_2, ticket_3]"
   ]
  }
 ],
 "metadata": {
  "kernelspec": {
   "display_name": "Python 3",
   "language": "python",
   "name": "python3"
  },
  "language_info": {
   "codemirror_mode": {
    "name": "ipython",
    "version": 3
   },
   "file_extension": ".py",
   "mimetype": "text/x-python",
   "name": "python",
   "nbconvert_exporter": "python",
   "pygments_lexer": "ipython3",
   "version": "3.6.1"
  }
 },
 "nbformat": 4,
 "nbformat_minor": 2
}
