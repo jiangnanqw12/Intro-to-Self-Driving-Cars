{
 "cells": [
  {
   "cell_type": "markdown",
   "metadata": {},
   "source": [
    "# Dig Deeper 🕳\n",
    "## Agenda \n",
    "1. Priority Queues\n",
    "1. *Review:* Make a Stack\n",
    "1. *Review:* Make a Queue\n",
    "1. *Review:* Make a Tree\n",
    "1. Searching Trees\n",
    "    1. *Review:* Breadth First Search \n",
    "    1. *Review:* Depth First Search \n",
    "    1. Uniform Cost Search \n",
    "    1. A* Search \n",
    "1. Real-World Use\n",
    "1. Examples of search with recursion"
   ]
  },
  {
   "cell_type": "markdown",
   "metadata": {},
   "source": [
    "### Priority Queues\n",
    "We are famailiar with the idea of queues. \n",
    "```\n",
    "Queues are FIFO or LILO abstract data type. Basically a collection in which the entities in the collection are kept in order and the principal (or only) operations on the collection are the addition of entities to the rear terminal position, known as enqueue, and removal of entities from the front terminal position, known as dequeue.\n",
    "```\n",
    "\n",
    "#### But what is a priority queue?\n",
    "a priority queue is like a regular queue but each element has a \"priority\" associated with it. In a priority queue, an element with high priority is served before an element with low priority. If two elements have the same priority, they are served according to their order in the queue.\n",
    "\n",
    "![](./priorityqueue.png)\n",
    "\n",
    "One can imagine a priority queue as a modified queue, but when one would get the next element off the queue, the highest-priority element is retrieved first.\n",
    "Stacks and queues may be modeled as particular kinds of priority queues. As a reminder, here is how stacks and queues behave:\n",
    "stack – elements are pulled in last-in first-out-order (e.g., a stack of papers)\n",
    "queue – elements are pulled in first-in first-out-order (e.g., a line in a cafeteria)\n",
    "In a stack, the priority of each inserted element is monotonically increasing; thus, the last element inserted is always the first retrieved. In a queue, the priority of each inserted element is monotonically decreasing; thus, the first element inserted is always the first retrieved."
   ]
  },
  {
   "cell_type": "code",
   "execution_count": 1,
   "metadata": {
    "collapsed": true
   },
   "outputs": [],
   "source": [
    "import heapq, itertools\n",
    "\n",
    "class PriorityQueue(object):\n",
    "    def __init__(self):\n",
    "        self.pq = []\n",
    "        self.entry_finder = {}\n",
    "        self.REMOVED = '<removed-task>'\n",
    "        self.counter = itertools.count()\n",
    "\n",
    "    def enqueue(self, task, priority=0):\n",
    "        'Add a new task or update the priority of an existing task'\n",
    "        if task in self.entry_finder:\n",
    "            remove_task(task)\n",
    "        count = next(self.counter)\n",
    "        entry = [priority, count, task]\n",
    "        self.entry_finder[task] = entry\n",
    "        heapq.heappush(self.pq, entry)\n",
    "\n",
    "    def remove_task(task):\n",
    "        'Mark an existing task as REMOVED.  Raise KeyError if not found.'\n",
    "        entry = entry_finder.pop(task)\n",
    "        entry[-1] = REMOVED\n",
    "    \n",
    "    def dequeue(self):\n",
    "        'Remove and return the lowest priority task. Raise KeyError if empty.'\n",
    "        while self.pq:\n",
    "            priority, count, task = heapq.heappop(self.pq)\n",
    "            if task is not self.REMOVED:\n",
    "                del self.entry_finder[task]\n",
    "                return task, priority\n",
    "        raise KeyError('pop from an empty priority queue')\n",
    "        \n",
    "    def is_empty(self):\n",
    "        return len(self.pq) == 0"
   ]
  },
  {
   "cell_type": "code",
   "execution_count": 2,
   "metadata": {
    "collapsed": true
   },
   "outputs": [],
   "source": [
    "class Node(object):\n",
    "    def __init__(self, data):\n",
    "        self.data = data\n",
    "class ListNode(Node):\n",
    "    def __init__(self, data, next= None):\n",
    "        super(ListNode, self).__init__(data)\n",
    "        self.next = next\n",
    "class TreeNode(Node):\n",
    "    def __init__(self, data, children = None, weight=None):\n",
    "        if not children:\n",
    "            children = []\n",
    "        super(TreeNode, self).__init__(data)\n",
    "        self.children = children\n",
    "        self.weight = weight"
   ]
  },
  {
   "cell_type": "markdown",
   "metadata": {},
   "source": [
    "### Lets Make A Stack\n",
    "![](./Lifo_stack.png)"
   ]
  },
  {
   "cell_type": "code",
   "execution_count": 3,
   "metadata": {
    "collapsed": true
   },
   "outputs": [],
   "source": [
    "from collections import deque\n",
    "class Stack(object):\n",
    "    def __init__(self, inlist=None):\n",
    "        if not inlist:\n",
    "            inlist=[]\n",
    "        self._list = deque(inlist)\n",
    "    def push(self, item):\n",
    "        self._list.append(item)\n",
    "    def pop(self):\n",
    "        return self._list.pop()\n",
    "    def is_empty(self):\n",
    "        return len(self._list) == 0\n",
    "    def peek(self, item):\n",
    "        return self._list[-1]"
   ]
  },
  {
   "cell_type": "markdown",
   "metadata": {},
   "source": [
    "### Lets Make A  Queue\n",
    "![](./450px-Data_Queue.svg.png)"
   ]
  },
  {
   "cell_type": "code",
   "execution_count": 4,
   "metadata": {
    "collapsed": true
   },
   "outputs": [],
   "source": [
    "from collections import deque\n",
    "class Queue(object):\n",
    "    def __init__(self, inlist=None):\n",
    "        if not inlist:\n",
    "            inlist=[]\n",
    "        self._list = deque(inlist)\n",
    "    def enqueue(self, item):\n",
    "        self._list.append(item)\n",
    "    def dequeue(self):\n",
    "        return self._list.popleft()\n",
    "    def is_empty(self):\n",
    "        return len(self._list) == 0\n",
    "    def peek(self, item):\n",
    "        return self._list[0]"
   ]
  },
  {
   "cell_type": "markdown",
   "metadata": {},
   "source": [
    "### Lets Make A Tree\n",
    "![](./tree.png)"
   ]
  },
  {
   "cell_type": "code",
   "execution_count": 5,
   "metadata": {
    "collapsed": true
   },
   "outputs": [],
   "source": [
    "class Tree(object):\n",
    "    def __init__(self, root):\n",
    "        self.root = root\n",
    "\n",
    "#4th layer\n",
    "node_15 = TreeNode(\"15\", weight=7)\n",
    "node_14 = TreeNode(\"14\", weight=8)\n",
    "node_13 = TreeNode(\"13\", weight=9)\n",
    "node_12 = TreeNode(\"12\", weight=10)\n",
    "node_11 = TreeNode(\"11\", weight=11)\n",
    "node_10 = TreeNode(\"10\", weight=12)\n",
    "node_9 = TreeNode(\"9\", weight=13)\n",
    "node_8 = TreeNode(\"8\", weight=14)\n",
    "# 3rd Layer\n",
    "node_7 = TreeNode(\"7\", [node_14, node_15], 1)\n",
    "node_6 = TreeNode(\"6\", [node_12, node_13], 2)\n",
    "node_5 = TreeNode(\"5\", [node_10, node_11], 3)\n",
    "node_4 = TreeNode(\"4\", [node_8, node_9], 4)\n",
    "\n",
    "# 2nd Layer\n",
    "node_3 = TreeNode(\"3\", [node_6, node_7], 5)\n",
    "node_2 = TreeNode(\"2\", [node_4, node_5], 6)\n",
    "\n",
    "#root\n",
    "root = TreeNode(\"1\" , [node_2, node_3])\n",
    "        \n",
    "tree = Tree(root)\n"
   ]
  },
  {
   "cell_type": "markdown",
   "metadata": {},
   "source": [
    "### Searching Trees\n",
    "![](dfsbfs.gif)"
   ]
  },
  {
   "cell_type": "markdown",
   "metadata": {},
   "source": [
    "#### Review: Breadth First Search\n",
    "Breadth-first search (BFS) is an algorithm for traversing or searching tree or graph data structures. It starts at the tree root (or some arbitrary node of a graph, sometimes referred to as a 'search key') and explores the neighbor nodes first, before moving to the next level neighbors.\n",
    "BFS and its application in finding connected components of graphs were invented in 1945 by Konrad Zuse, in his (rejected) Ph.D. thesis on the Plankalkül programming language, but this was not published until 1972. It was reinvented in 1959 by E. F. Moore, who used it to find the shortest path out of a maze, and discovered independently by C. Y. Lee as a wire routing algorithm (published 1961)."
   ]
  },
  {
   "cell_type": "code",
   "execution_count": 7,
   "metadata": {},
   "outputs": [
    {
     "name": "stdout",
     "output_type": "stream",
     "text": [
      "1\n",
      "True\n"
     ]
    }
   ],
   "source": [
    "def bfs(tree, target=\"1\"):\n",
    "    search_queue = Queue()\n",
    "    current = tree.root\n",
    "    search_queue.enqueue(current)\n",
    "    while not search_queue.is_empty(): \n",
    "        current = search_queue.dequeue()\n",
    "        print current.data\n",
    "        if current.data == target:\n",
    "            return True\n",
    "        if current.children:\n",
    "            for child in current.children:\n",
    "                search_queue.enqueue(child)\n",
    "    return  False\n",
    "print bfs(tree)"
   ]
  },
  {
   "cell_type": "markdown",
   "metadata": {},
   "source": [
    "#### Review: Depth First Search\n",
    "Depth-first search (DFS) is an algorithm for traversing or searching tree or graph data structures. One starts at the root (selecting some arbitrary node as the root in the case of a graph) and explores as far as possible along each branch before backtracking.\n",
    "A version of depth-first search was investigated in the 19th century by French mathematician Charles Pierre Trémaux as a strategy for solving mazes.\n"
   ]
  },
  {
   "cell_type": "code",
   "execution_count": null,
   "metadata": {
    "collapsed": true
   },
   "outputs": [],
   "source": [
    "def dfs(tree, target=\"15\"):\n",
    "    search_stack = Stack()\n",
    "    current = tree.root\n",
    "    search_stack.push(current)\n",
    "    while not search_stack.is_empty(): \n",
    "        current = search_stack.pop()\n",
    "        print current.data\n",
    "        if current.data == target:\n",
    "            return True\n",
    "        if current.children:\n",
    "            for child in reversed(current.children):\n",
    "                search_stack.push(child)\n",
    "    return  False\n",
    "dfs(tree)"
   ]
  },
  {
   "cell_type": "markdown",
   "metadata": {},
   "source": [
    "Unlike linear data structures (Array, Linked List, Queues, Stacks, etc) which have only one logical way to traverse them, trees can be traversed in different ways. Following are the generally used ways for traversing trees.\n",
    "\n",
    "![](tree12.gif)\n",
    "\n",
    "##### Preorder Transversal\n",
    "Preorder (Root, Left, Right) : 1 2 4 5 3\n",
    "###### Algorithm Preorder(tree)\n",
    "   1. Visit the root.\n",
    "   2. Traverse the left subtree, i.e., call Preorder(left-subtree)\n",
    "   3. Traverse the right subtree, i.e., call Preorder(right-subtree) \n",
    "###### Uses of Preorder\n",
    "Preorder traversal is used to create a copy of the tree. Preorder traversal is also used to get prefix expression on of an expression tree. Please see http://en.wikipedia.org/wiki/Polish_notation to know why prefix expressions are useful.\n",
    "Example: Preorder traversal for the above given figure is 1 2 4 5 3.\n",
    "\n",
    "![](tree12.gif)\n",
    "\n",
    "##### Inorder  Transversal\n",
    "Inorder (Left, Root, Right) : 4 2 5 1 3\n",
    "###### Algorithm Inorder(tree)\n",
    "   1. Traverse the left subtree, i.e., call Inorder(left-subtree)\n",
    "   2. Visit the root.\n",
    "   3. Traverse the right subtree, i.e., call Inorder(right-subtree)   \n",
    "###### Uses of Inorder\n",
    "In case of binary search trees (BST), Inorder traversal gives nodes in non-decreasing order. To get nodes of BST in non-increasing order, a variation of Inorder traversal where Inorder itraversal s reversed, can be used.\n",
    "Example: Inorder traversal for the above given figure is 4 2 5 1 3.\n",
    "\n",
    "![](tree12.gif)\n",
    "   \n",
    "##### Postorder Transversal\n",
    "Postorder (Left, Right, Root) : 4 5 2 3 1\n",
    "###### Algorithm Postorder(tree)\n",
    "   1. Traverse the left subtree, i.e., call Postorder(left-subtree)\n",
    "   2. Traverse the right subtree, i.e., call Postorder(right-subtree)\n",
    "   3. Visit the root.\n",
    "###### Uses of Postorder\n",
    "Postorder traversal is used to delete the tree. Please see the question for deletion of tree for details. Postorder traversal is also useful to get the postfix expression of an expression tree. Please see http://en.wikipedia.org/wiki/Reverse_Polish_notation to for the usage of postfix expression.\n",
    "\n"
   ]
  },
  {
   "cell_type": "markdown",
   "metadata": {},
   "source": [
    "#### Uniform Cost Search (Dijkstra's algorithm)\n",
    "![](Dijkstras_progress_animation.gif)\n",
    "Dijkstra's algorithm is an algorithm for finding the shortest paths between nodes in a graph, which may represent, for example, road networks. It was conceived by computer scientist Edsger W. Dijkstra in 1956 and published three years later.\n",
    "\n",
    "The algorithm exists in many variants; Dijkstra's original variant found the shortest path between two nodes, but a more common variant fixes a single node as the \"source\" node and finds shortest paths from the source to all other nodes in the graph, producing a shortest-path tree.\n",
    "\n",
    "For a given source node in the graph, the algorithm finds the shortest path between that node and every other. It can also be used for finding the shortest paths from a single node to a single destination node by stopping the algorithm once the shortest path to the destination node has been determined. For example, if the nodes of the graph represent cities and edge path costs represent driving distances between pairs of cities connected by a direct road, Dijkstra's algorithm can be used to find the shortest route between one city and all other cities. As a result, the shortest path algorithm is widely used in network routing protocols\n",
    "\n",
    "In some fields, artificial intelligence in particular, Dijkstra's algorithm or a variant of it is known as uniform-cost search and formulated as an instance of the more general idea of best-first search."
   ]
  },
  {
   "cell_type": "code",
   "execution_count": 9,
   "metadata": {},
   "outputs": [
    {
     "name": "stdout",
     "output_type": "stream",
     "text": [
      "1\n",
      "3\n",
      "2\n",
      "7\n",
      "6\n",
      "5\n",
      "4\n",
      "15\n"
     ]
    },
    {
     "data": {
      "text/plain": [
       "True"
      ]
     },
     "execution_count": 9,
     "metadata": {},
     "output_type": "execute_result"
    }
   ],
   "source": [
    "def ucs(tree, target=\"15\"):\n",
    "    search_priority_queue = PriorityQueue()\n",
    "    current = tree.root\n",
    "    search_priority_queue.enqueue(current)\n",
    "    while not search_priority_queue.is_empty(): \n",
    "        current, priority = search_priority_queue.dequeue()\n",
    "        print current.data\n",
    "        if current.data == target:\n",
    "            return True\n",
    "        if reversed(current.children):\n",
    "            for child in reversed(current.children):\n",
    "                search_priority_queue.enqueue(child, (child.weight + priority))\n",
    "    return  False\n",
    "ucs(tree)"
   ]
  },
  {
   "cell_type": "markdown",
   "metadata": {},
   "source": [
    "#### A\\* Search\n",
    "![](Astar_progress_animation.gif)\n",
    "In computer science, A\\* (pronounced as \"A star\") is a computer algorithm that is widely used in pathfinding and graph traversal, the process of plotting an efficiently directed path between multiple points, called nodes. It enjoys widespread use due to its performance and accuracy. However, in practical travel-routing systems, it is generally outperformed by algorithms which can pre-process the graph to attain better performance, although other work has found A\\* to be superior to other approaches.\n",
    "\n",
    "Peter Hart, Nils Nilsson and Bertram Raphael of Stanford Research Institute (now SRI International) first described the algorithm in 1968. It is an extension of Edsger Dijkstra's 1959 algorithm. A\\* achieves better performance by using heuristics to guide its search.\n",
    "\n",
    "![](A__Search_Example_on_North_American_Freight_Train_Network.gif)\n",
    "\n",
    "##### Heuristic\n",
    "In computer science, artificial intelligence, and mathematical optimization, a heuristic (from Greek εὑρίσκω \"I find, discover\") is a technique designed for solving a problem more quickly when classic methods are too slow, or for finding an approximate solution when classic methods fail to find any exact solution. This is achieved by trading optimality, completeness, accuracy, or precision for speed. In a way, it can be considered a shortcut.\n",
    "A heuristic function, also called simply a heuristic, is a function that ranks alternatives in search algorithms at each branching step based on available information to decide which branch to follow. For example, it may approximate the exact solution.\n"
   ]
  },
  {
   "cell_type": "code",
   "execution_count": 17,
   "metadata": {},
   "outputs": [
    {
     "name": "stdout",
     "output_type": "stream",
     "text": [
      "1\n",
      "2\n",
      "3\n",
      "4\n",
      "5\n",
      "6\n",
      "7\n",
      "8\n",
      "9\n",
      "10\n",
      "11\n",
      "12\n",
      "13\n",
      "14\n",
      "15\n"
     ]
    },
    {
     "data": {
      "text/plain": [
       "True"
      ]
     },
     "execution_count": 17,
     "metadata": {},
     "output_type": "execute_result"
    }
   ],
   "source": [
    "def astars(tree, target=\"15\", heuristic = lambda x: 1):\n",
    "    search_priority_queue = PriorityQueue()\n",
    "    current = tree.root\n",
    "    search_priority_queue.enqueue(current)\n",
    "    while not search_priority_queue.is_empty(): \n",
    "        current, h_score = search_priority_queue.dequeue()\n",
    "        print current.data\n",
    "        if current.data == target:\n",
    "            return True\n",
    "        if reversed(current.children):\n",
    "            for child in reversed(current.children):\n",
    "                search_priority_queue.enqueue(child, heuristic(child))\n",
    "    return  False\n",
    "def hackbright_heuristic(node):\n",
    "    return 2*int(node.data) + 1\n",
    "astars(tree, \"15\", hackbright_heuristic)"
   ]
  },
  {
   "cell_type": "markdown",
   "metadata": {},
   "source": [
    "### Real-World Use\n",
    "\n",
    "![](./saw.gif)\n",
    "\n",
    "#### Game Tree\n",
    "\n",
    "In game theory, a game tree is a directed graph whose nodes are positions in a game and whose edges are moves. The complete game tree for a game is the game tree starting at the initial position and containing all possible moves from each position; the complete tree is the same tree as that obtained from the extensive-form game representation.\n",
    "\n",
    "![Game Tree](ttt.png)"
   ]
  },
  {
   "cell_type": "markdown",
   "metadata": {},
   "source": [
    "### Examples of search with dfs recursion"
   ]
  },
  {
   "cell_type": "code",
   "execution_count": 18,
   "metadata": {},
   "outputs": [
    {
     "name": "stdout",
     "output_type": "stream",
     "text": [
      "1\n",
      "2\n",
      "4\n",
      "8\n",
      "9\n",
      "5\n",
      "10\n",
      "11\n",
      "3\n",
      "6\n"
     ]
    },
    {
     "data": {
      "text/plain": [
       "True"
      ]
     },
     "execution_count": 18,
     "metadata": {},
     "output_type": "execute_result"
    }
   ],
   "source": [
    "def dfs(root, target=\"6\"):\n",
    "    stack = Stack([root])\n",
    "    current = stack.pop()\n",
    "    print current.data\n",
    "    if current.data == target:\n",
    "        return True\n",
    "    if not current.children:\n",
    "        return False\n",
    "    for child in current.children:\n",
    "        stack.push(child)\n",
    "    return any(dfs(x) for x in current.children)\n",
    "    \n",
    "\n",
    "dfs(tree.root, '4')"
   ]
  },
  {
   "cell_type": "markdown",
   "metadata": {},
   "source": [
    "### Bonus: Pacman\n",
    "![](pacman.png)"
   ]
  },
  {
   "cell_type": "markdown",
   "metadata": {},
   "source": [
    "#### Search in Pacman\n",
    "[Pacman Problem Solution](./pacman)\n",
    "\n",
    "##### UC Berkeley CS188 Intro to AI \n",
    "[Project](http://ai.berkeley.edu/search.html)\n",
    "\n",
    "### Further Study\n",
    "- Iterative Deepening\n",
    "- [Lecture 4: Search: Depth-First, Hill Climbing, Beam](https://ocw.mit.edu/courses/electrical-engineering-and-computer-science/6-034-artificial-intelligence-fall-2010/lecture-videos/lecture-4-search-depth-first-hill-climbing-beam/)\n",
    "- [Lecture 5: Search: Optimal, Branch and Bound, A*](https://ocw.mit.edu/courses/electrical-engineering-and-computer-science/6-034-artificial-intelligence-fall-2010/lecture-videos/lecture-5-search-optimal-branch-and-bound-a/)\n",
    "- [Lecture 6(MIT): Search: Games, Minimax, and Alpha-Beta](https://ocw.mit.edu/courses/electrical-engineering-and-computer-science/6-034-artificial-intelligence-fall-2010/lecture-videos/lecture-6-search-games-minimax-and-alpha-beta/)"
   ]
  },
  {
   "cell_type": "markdown",
   "metadata": {},
   "source": [
    "**Resources Used**\n",
    "- https://ocw.mit.edu/courses/electrical-engineering-and-computer-science/6-034-artificial-intelligence-fall-2010\n",
    "- http://ai.berkeley.edu/search.html\n",
    "- https://en.wikipedia.org/wiki/Priority_queue\n",
    "- https://docs.python.org/2/library/heapq.html#module-heapq\n",
    "- https://en.wikipedia.org/wiki/Breadth-first_search\n",
    "- https://en.wikipedia.org/wiki/A*_search_algorithm\n",
    "- https://en.wikipedia.org/wiki/Depth-first_search\n",
    "- https://en.wikipedia.org/wiki/Heuristic_(computer_science)\n"
   ]
  },
  {
   "cell_type": "code",
   "execution_count": null,
   "metadata": {
    "collapsed": true
   },
   "outputs": [],
   "source": []
  }
 ],
 "metadata": {
  "anaconda-cloud": {},
  "kernelspec": {
   "display_name": "Python 3",
   "language": "python",
   "name": "python3"
  },
  "language_info": {
   "codemirror_mode": {
    "name": "ipython",
    "version": 3
   },
   "file_extension": ".py",
   "mimetype": "text/x-python",
   "name": "python",
   "nbconvert_exporter": "python",
   "pygments_lexer": "ipython3",
   "version": "3.6.2"
  }
 },
 "nbformat": 4,
 "nbformat_minor": 1
}
