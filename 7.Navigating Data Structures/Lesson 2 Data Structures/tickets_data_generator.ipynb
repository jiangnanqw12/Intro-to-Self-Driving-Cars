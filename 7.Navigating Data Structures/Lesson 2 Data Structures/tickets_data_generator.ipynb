{
 "cells": [
  {
   "cell_type": "code",
   "execution_count": 8,
   "metadata": {},
   "outputs": [
    {
     "name": "stdout",
     "output_type": "stream",
     "text": [
      "2008-05-10T22:10:27\n"
     ]
    }
   ],
   "source": [
    "import random\n",
    "import time\n",
    "import uuid\n",
    "\n",
    "TICKETS_DIR = \"tickets\"\n",
    "\n",
    "ERRORS = [\n",
    "    \n",
    "    \"Unacceptable uncertainty in localization of dynamic object\",\n",
    "    \"Kalman Filter covariance threshold exceeded\",\n",
    "    \"Unknown error\",\n",
    "    \"Speed limit exceeded\",\n",
    "    \"Unknown object detected. Decreasing speed to 0.8 times speed limit.\",\n",
    "]\n",
    "\n",
    "RESPONSES = [\n",
    "    \"Emergency stop engaged.\",\n",
    "    \"Reducing vehicle speed to 75% of speed limit.\",\n",
    "    \"Relinquishing autonomous control to driver.\",\n",
    "    \n",
    "]\n",
    "\n",
    "def random_ticket_v1():\n",
    "    # get first line of text file\n",
    "    unique_id = str(uuid.uuid1())\n",
    "    \n",
    "    # get second line\n",
    "    start = \"2017-10-09T06:30:00\"\n",
    "    end   = \"2018-02-27T19:45:00\"\n",
    "    format_str = '%Y-%m-%dT%H:%M:%S'\n",
    "    proportion = random.random()\n",
    "    datetime = strTimeProp(start, end, format_str, proportion)\n",
    "    \n",
    "    \n",
    "    \n",
    "\n",
    "def strTimeProp(start, end, format, prop):\n",
    "    \"\"\"Get a time at a proportion of a range of two formatted times.\n",
    "\n",
    "    start and end should be strings specifying times formated in the\n",
    "    given format (strftime-style), giving an interval [start, end].\n",
    "    prop specifies how a proportion of the interval to be taken after\n",
    "    start.  The returned time will be in the specified format.\n",
    "    \"\"\"\n",
    "\n",
    "    stime = time.mktime(time.strptime(start, format))\n",
    "    etime = time.mktime(time.strptime(end, format))\n",
    "\n",
    "    ptime = stime + prop * (etime - stime)\n",
    "\n",
    "    return time.strftime(format, time.localtime(ptime))\n",
    "\n",
    "\n",
    "def randomDate(start, end, prop):\n",
    "    return strTimeProp(start, end, '%Y-%m-%dT%H:%M:%S', prop)\n",
    "\n",
    "print(randomDate(\"2008-01-20T01:30:45\", \"2010-01-20T01:30:45\", random.random()))"
   ]
  },
  {
   "cell_type": "code",
   "execution_count": 11,
   "metadata": {},
   "outputs": [],
   "source": [
    "uid=  uuid.uuid1()"
   ]
  },
  {
   "cell_type": "code",
   "execution_count": 12,
   "metadata": {},
   "outputs": [
    {
     "data": {
      "text/plain": [
       "'24016eb6-b837-11e7-ae3e-0242ac120002'"
      ]
     },
     "execution_count": 12,
     "metadata": {},
     "output_type": "execute_result"
    }
   ],
   "source": [
    "str(uid)"
   ]
  },
  {
   "cell_type": "code",
   "execution_count": null,
   "metadata": {
    "collapsed": true
   },
   "outputs": [],
   "source": []
  }
 ],
 "metadata": {
  "kernelspec": {
   "display_name": "Python 3",
   "language": "python",
   "name": "python3"
  },
  "language_info": {
   "codemirror_mode": {
    "name": "ipython",
    "version": 3
   },
   "file_extension": ".py",
   "mimetype": "text/x-python",
   "name": "python",
   "nbconvert_exporter": "python",
   "pygments_lexer": "ipython3",
   "version": "3.6.1"
  }
 },
 "nbformat": 4,
 "nbformat_minor": 2
}
