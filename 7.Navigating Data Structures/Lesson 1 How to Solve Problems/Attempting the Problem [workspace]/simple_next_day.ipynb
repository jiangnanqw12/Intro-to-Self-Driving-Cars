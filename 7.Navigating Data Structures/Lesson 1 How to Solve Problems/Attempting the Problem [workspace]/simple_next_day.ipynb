{
 "cells": [
  {
   "cell_type": "code",
   "execution_count": 1,
   "metadata": {},
   "outputs": [],
   "source": [
    "###\n",
    "### Define a simple nextDay procedure, that assumes\n",
    "### every month has 30 days.\n",
    "###\n",
    "### For example:\n",
    "###    nextDay(1999, 12, 30) => (2000, 1, 1)\n",
    "###    nextDay(2013, 1, 30) => (2013, 2, 1)\n",
    "###    nextDay(2012, 12, 30) => (2013, 1, 1)  (even though December really has 31 days)\n",
    "###\n",
    "\n",
    "def nextDay(year, month, day):\n",
    "    \"\"\"\n",
    "    Returns the year, month, day of the next day.\n",
    "    Simple version: assume every month has 30 days.\n",
    "    \"\"\"\n",
    "    # YOUR CODE HERE\n",
    "    if day<30:\n",
    "        return year,month,day+1\n",
    "    elif month<12:\n",
    "        return year,month+1,1\n",
    "    else:\n",
    "        return year+1,1,1\n",
    "    "
   ]
  },
  {
   "cell_type": "code",
   "execution_count": 2,
   "metadata": {},
   "outputs": [
    {
     "data": {
      "text/plain": [
       "(2000, 1, 1)"
      ]
     },
     "execution_count": 2,
     "metadata": {},
     "output_type": "execute_result"
    }
   ],
   "source": [
    "nextDay(1999, 12, 30)"
   ]
  },
  {
   "cell_type": "code",
   "execution_count": 3,
   "metadata": {},
   "outputs": [
    {
     "data": {
      "text/plain": [
       "(2013, 2, 1)"
      ]
     },
     "execution_count": 3,
     "metadata": {},
     "output_type": "execute_result"
    }
   ],
   "source": [
    "nextDay(2013, 1, 30)"
   ]
  },
  {
   "cell_type": "code",
   "execution_count": 4,
   "metadata": {},
   "outputs": [
    {
     "data": {
      "text/plain": [
       "(2013, 1, 1)"
      ]
     },
     "execution_count": 4,
     "metadata": {},
     "output_type": "execute_result"
    }
   ],
   "source": [
    "nextDay(2012, 12, 30)"
   ]
  },
  {
   "cell_type": "code",
   "execution_count": null,
   "metadata": {},
   "outputs": [],
   "source": []
  }
 ],
 "metadata": {
  "kernelspec": {
   "display_name": "Python 3",
   "language": "python",
   "name": "python3"
  },
  "language_info": {
   "codemirror_mode": {
    "name": "ipython",
    "version": 3
   },
   "file_extension": ".py",
   "mimetype": "text/x-python",
   "name": "python",
   "nbconvert_exporter": "python",
   "pygments_lexer": "ipython3",
   "version": "3.7.0"
  }
 },
 "nbformat": 4,
 "nbformat_minor": 2
}
