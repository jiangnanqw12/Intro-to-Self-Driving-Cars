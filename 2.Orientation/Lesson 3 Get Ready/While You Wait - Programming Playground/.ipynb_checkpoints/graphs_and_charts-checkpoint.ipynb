{
 "cells": [
  {
   "cell_type": "markdown",
   "metadata": {},
   "source": [
    "# Graphs and Charts\n",
    "Making graphs is useful. And being able to visualize the algorithms you make is an important part of being a self driving car engineer. \n",
    "\n",
    "Run the code in this notebook to see some visualizations."
   ]
  },
  {
   "cell_type": "code",
   "execution_count": null,
   "metadata": {
    "collapsed": true
   },
   "outputs": [],
   "source": [
    "from matplotlib import pyplot as plt"
   ]
  },
  {
   "cell_type": "code",
   "execution_count": null,
   "metadata": {
    "collapsed": true
   },
   "outputs": [],
   "source": [
    "################################\n",
    "# Demonstration of a line graph\n",
    "#\n",
    "\n",
    "# The data\n",
    "X = range(24) # 0, 1, 2, ... , 23\n",
    "Y = [0,  1,  2,  4,  8,  15, \n",
    "     23, 40, 50, 58, 64, 68, \n",
    "     71, 74, 77, 80, 82, 84,\n",
    "     86, 88, 89, 90, 91, 92]\n",
    "\n",
    "# typical plotting starter code\n",
    "fig, ax = plt.subplots()\n",
    "ax.plot(X,Y)\n",
    "\n",
    "# setup the x axis\n",
    "ax.set_xlabel(\"Months Spent Programming\")\n",
    "ax.set_xlim(0,24)\n",
    "\n",
    "# setup y axis\n",
    "ax.set_ylabel(\"Programming Ability\")\n",
    "ax.set_ylim(0,100)\n",
    "\n",
    "# set the title\n",
    "title = \"\"\"Self Reported Programming Ability \n",
    "(0 - 100) Over Time\"\"\"\n",
    "ax.set_title(title)\n",
    "\n",
    "# show the graph\n",
    "plt.show()"
   ]
  },
  {
   "cell_type": "code",
   "execution_count": null,
   "metadata": {},
   "outputs": [],
   "source": [
    "#################################\n",
    "# Demonstration of a histogram\n",
    "#\n",
    "# This code can be found in the matplotlib documentation:\n",
    "# https://matplotlib.org/examples/statistics/histogram_demo_features.html\n",
    "#\n",
    "\"\"\"\n",
    "=========================================================\n",
    "Demo of the histogram (hist) function with a few features\n",
    "=========================================================\n",
    "\n",
    "In addition to the basic histogram, this demo shows a few optional\n",
    "features:\n",
    "\n",
    "    * Setting the number of data bins\n",
    "    * The ``normed`` flag, which normalizes bin heights so that the\n",
    "      integral of the histogram is 1. The resulting histogram is an\n",
    "      approximation of the probability density function.\n",
    "    * Setting the face color of the bars\n",
    "    * Setting the opacity (alpha value).\n",
    "\n",
    "Selecting different bin counts and sizes can significantly affect the\n",
    "shape of a histogram. The Astropy docs have a great section on how to\n",
    "select these parameters:\n",
    "http://docs.astropy.org/en/stable/visualization/histogram.html\n",
    "\"\"\"\n",
    "\n",
    "import numpy as np\n",
    "import matplotlib.mlab as mlab\n",
    "import matplotlib.pyplot as plt\n",
    "\n",
    "np.random.seed(0)\n",
    "\n",
    "# example data\n",
    "mu = 100  # mean of distribution\n",
    "sigma = 15  # standard deviation of distribution\n",
    "x = mu + sigma * np.random.randn(437)\n",
    "\n",
    "num_bins = 50\n",
    "\n",
    "fig, ax = plt.subplots()\n",
    "\n",
    "# the histogram of the data\n",
    "n, bins, patches = ax.hist(x, num_bins, normed=1)\n",
    "\n",
    "# add a 'best fit' line\n",
    "y = mlab.normpdf(bins, mu, sigma)\n",
    "ax.plot(bins, y, '--')\n",
    "ax.set_xlabel('Smarts')\n",
    "ax.set_ylabel('Probability density')\n",
    "ax.set_title(r'Histogram of IQ: $\\mu=100$, $\\sigma=15$')\n",
    "\n",
    "# Tweak spacing to prevent clipping of ylabel\n",
    "fig.tight_layout()\n",
    "plt.show()"
   ]
  }
 ],
 "metadata": {
  "kernelspec": {
   "display_name": "Python 3",
   "language": "python",
   "name": "python3"
  },
  "language_info": {
   "codemirror_mode": {
    "name": "ipython",
    "version": 3
   },
   "file_extension": ".py",
   "mimetype": "text/x-python",
   "name": "python",
   "nbconvert_exporter": "python",
   "pygments_lexer": "ipython3",
   "version": "3.6.1"
  }
 },
 "nbformat": 4,
 "nbformat_minor": 2
}
