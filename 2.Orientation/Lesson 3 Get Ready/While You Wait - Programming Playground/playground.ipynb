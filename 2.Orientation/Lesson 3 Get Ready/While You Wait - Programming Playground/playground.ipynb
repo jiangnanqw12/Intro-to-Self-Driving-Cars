{
 "cells": [
  {
   "cell_type": "markdown",
   "metadata": {},
   "source": [
    "# Programming Playground\n",
    "This is a **Jupyter Notebook**. You'll be doing a lot of programming in notebooks like this throughout the Nanodegree.\n",
    "\n",
    "Select the cell below this one (which contains Python code) and press `Ctrl + Enter` (this notation means \"press the Ctrl key and the Enter key at the same time)"
   ]
  },
  {
   "cell_type": "code",
   "execution_count": 1,
   "metadata": {},
   "outputs": [
    {
     "name": "stdout",
     "output_type": "stream",
     "text": [
      "Hello World!\n"
     ]
    }
   ],
   "source": [
    "# Press Ctrl + Enter to run this code\n",
    "print(\"Hello World!\")"
   ]
  },
  {
   "cell_type": "markdown",
   "metadata": {},
   "source": [
    "## Secret Messages\n",
    "The code in the cell below performs a python **`import`** of a file with **secret messages** stored as variables. Don't worry too much about what that means yet, but try exploring the messages."
   ]
  },
  {
   "cell_type": "code",
   "execution_count": 2,
   "metadata": {},
   "outputs": [
    {
     "name": "stdout",
     "output_type": "stream",
     "text": [
      "You've loaded the secret messages. \n",
      "Now run the cell below this one (Ctrl + Enter)\n",
      "to see the first message!\n"
     ]
    }
   ],
   "source": [
    "import secret_messages\n",
    "\n",
    "# this code will be explained later, ignore it for now\n",
    "%load_ext autoreload \n",
    "%autoreload 2\n",
    "\n",
    "print(\"\"\"You've loaded the secret messages. \n",
    "Now run the cell below this one (Ctrl + Enter)\n",
    "to see the first message!\"\"\")"
   ]
  },
  {
   "cell_type": "code",
   "execution_count": 5,
   "metadata": {},
   "outputs": [
    {
     "name": "stdout",
     "output_type": "stream",
     "text": [
      "\n",
      "Congratulations! \n",
      "\n",
      "You found the first message. Can you find the second? \n",
      "\n",
      "You might want to change the variable name from \n",
      "secret_messages.message_1 to something else.\n"
     ]
    }
   ],
   "source": [
    "print(secret_messages.message_1)"
   ]
  },
  {
   "cell_type": "code",
   "execution_count": 6,
   "metadata": {},
   "outputs": [
    {
     "name": "stdout",
     "output_type": "stream",
     "text": [
      "\n",
      "Nice work! You found the second message!\n",
      "\n",
      "Now, take a look at the toolbar at the top of the notebook. Insert \n",
      "a new cell and print message_3 by doing the following:\n",
      "\n",
      "1. Select Insert > Insert Cell Below\n",
      "2. Click the new cell to get a cursor. Type the following:\n",
      "\n",
      "print(secret_messages.message_3) \n",
      "\n",
      "3. Press Ctrl + Enter to run\n",
      "\n"
     ]
    }
   ],
   "source": [
    "print(secret_messages.message_2)"
   ]
  },
  {
   "cell_type": "code",
   "execution_count": 7,
   "metadata": {},
   "outputs": [
    {
     "name": "stdout",
     "output_type": "stream",
     "text": [
      "\n",
      "Great! There is still one more message to find but it's not named \n",
      "what you think. Luckily, you can use autocomplete to discover\n",
      "what it's called. To do that:\n",
      "\n",
      "1. Insert a cell below this one.\n",
      "2. Type the following into the cell (including the . )\n",
      "\n",
      "print(secret_messages.)\n",
      "\n",
      "3. Then, with your cursor to the right of the . press the Tab key on your \n",
      "   keyboard. You should see all of the variables contained in \n",
      "   the secret_messages file.\n",
      "   \n",
      "4. Use the arrow keys to navigate down to the last message and \n",
      "   press enter. If you then run the cell you should see the last\n",
      "   message.\n",
      "\n"
     ]
    }
   ],
   "source": [
    "print(secret_messages.message_3)"
   ]
  },
  {
   "cell_type": "code",
   "execution_count": 8,
   "metadata": {},
   "outputs": [
    {
     "name": "stdout",
     "output_type": "stream",
     "text": [
      "\n",
      "                                               ____\n",
      "                                              |    |                         \n",
      "                                              |  O |                          \n",
      "                                              |    |                         \n",
      "                                  ..---:::::::-----------. ::::;;.\n",
      "                               .'\"\"'\"\"'                  ;;   \\  \":.\n",
      "                            .''                          ;     \\   \"\\__.\n",
      "                          .'                            ;;      ;   \\\";\n",
      "                        .'                              ;   _____;   \\/\n",
      "                      .'                               :; ;\"     \\ ___:'.\n",
      "                    .'--...........................    : =   ____:\"    \\ \\\n",
      "               ..-\"\"                               \"'\"'  o\"'\"     ;     ; :\n",
      "          .--\"\"  .----- ..----...    _.-    --.  ..-\"     ;       ;     ; ;\n",
      "       .\"\"_-     \"--\"\"-----'\"\"    _-\"        .-\"\"         ;        ;    .-.\n",
      "    .'  .'                      .\"         .\"              ;       ;   /. |\n",
      "   /-./'                      .\"          /           _..  ;       ;   ;;;|\n",
      "  :  ;-.______               /       _________==.    /_  \\ ;       ;   ;;;;\n",
      "  ;  / |      \"\"'\"\"'\"\"'\"\".---.\"\"'\"\"'\"          :    /\" \". |;       ; _; ;;;\n",
      " /\"-/  |                /   /                  /   /     ;|;      ;-\" | ;';\n",
      ":-  :   \"'\"----______  /   /              ____.   .  .\"'. ;;   .-\"..T\"   .\n",
      "'. \"  ___            \"\":   '\"\"'\"\"'\"\"'\"\"'\"\"    .   ; ;    ;; ;.\" .\"   '--\"\n",
      " \",   __ \"'\"  \"\"---... :- - - - - - - - - ' '  ; ;  ;    ;;\"  .\"\n",
      "  /. ;  \"'\"---___                             ;  ; ;     ;|.\"\"\n",
      " :  \":           \"'\"----.    .-------.       ;   ; ;     ;:\n",
      "  \\  '--__               \\   \\        \\     /    | ;     ;;\n",
      "   '-..   \"\"'\"---___      :   .______..\\ __/..-\"\"|  ;   ; ;\n",
      "       \"\"--..       \"'\"--\"        m l s         .   \". . ;\n",
      "             \"\"------...                  ..--\"\"      \" :\n",
      "                        \"\"'\"\"'\"\"'\"\"'\"\"'\"\"'    \\        /\n",
      "                                               \"------\"\n",
      "                                               \n",
      "Good work, you've found the final message! \n",
      "\n",
      "But you can add more! Click the \"Jupyter\" logo in the \n",
      "top-left of the notebook and then navigate to secret_messages.py\n",
      "\n",
      "(or if you prefer, explore some of the other notebooks we've \n",
      "created for you to explore).\n",
      "\n",
      "You can add your own variables and then navigate back to this\n",
      "notebook to try printing them.\n",
      "\n"
     ]
    }
   ],
   "source": [
    "print(secret_messages.final_message)"
   ]
  },
  {
   "cell_type": "code",
   "execution_count": null,
   "metadata": {},
   "outputs": [],
   "source": []
  }
 ],
 "metadata": {
  "kernelspec": {
   "display_name": "Python 3",
   "language": "python",
   "name": "python3"
  },
  "language_info": {
   "codemirror_mode": {
    "name": "ipython",
    "version": 3
   },
   "file_extension": ".py",
   "mimetype": "text/x-python",
   "name": "python",
   "nbconvert_exporter": "python",
   "pygments_lexer": "ipython3",
   "version": "3.7.0"
  }
 },
 "nbformat": 4,
 "nbformat_minor": 2
}
