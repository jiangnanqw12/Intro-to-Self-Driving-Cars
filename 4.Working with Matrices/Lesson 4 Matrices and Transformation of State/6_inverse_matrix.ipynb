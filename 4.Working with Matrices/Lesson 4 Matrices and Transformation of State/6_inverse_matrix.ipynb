{
 "cells": [
  {
   "cell_type": "markdown",
   "metadata": {},
   "source": [
    "# Matrix Inverse\n",
    "\n",
    "In this exercise, you will write a function to calculate the inverse of either a 1x1 or a 2x2 matrix."
   ]
  },
  {
   "cell_type": "code",
   "execution_count": 12,
   "metadata": {},
   "outputs": [],
   "source": [
    "### TODO: Write a function called inverse_matrix() that \n",
    "###       receives a matrix and outputs the inverse\n",
    "###       \n",
    "###       You are provided with start code that checks\n",
    "###       if the matrix is square and if not, throws an error\n",
    "###\n",
    "###       You will also need to check the size of the matrix.\n",
    "###       The formula for a 1x1 matrix and 2x2 matrix are different,\n",
    "###       so your solution will need to take this into account.\n",
    "###\n",
    "###       If the user inputs a non-invertible 2x2 matrix or a matrix\n",
    "###       of size 3 x 3 or greater, the function should raise an\n",
    "###       error. A non-invertible\n",
    "###       2x2 matrix has ad-bc = 0 as discussed in the lesson\n",
    "###\n",
    "###       Python has various options for raising errors\n",
    "###       raise RuntimeError('this is the error message')\n",
    "###       raise NotImplementedError('this functionality is not implemented')\n",
    "###       raise ValueError('The denominator of a fraction cannot be zero')\n",
    "\n",
    "def inverse_matrix(matrix):\n",
    "    \n",
    "    inverse = []\n",
    "    \n",
    "    if len(matrix) != len(matrix[0]):\n",
    "        raise ValueError('The matrix must be square')\n",
    "    \n",
    "    ## TODO: Check if matrix is larger than 2x2.\n",
    "    ## If matrix is too large, then raise an error\n",
    "    if len(matrix)>2:\n",
    "        raise ValueError('The matrix is a non-invertible')\n",
    "    elif len(matrix)==2:\n",
    "        \n",
    "        a=matrix[0][0]\n",
    "        b=matrix[0][1]\n",
    "        c=matrix[1][0]\n",
    "        d=matrix[1][1]\n",
    "        delta=a*d-b*c\n",
    "        if delta==0:\n",
    "            raise testValueError('The matrix is a non-invertible')\n",
    "        \n",
    "        matrix_inverse=matrix\n",
    "        matrix_inverse[0][0]=d/delta\n",
    "        matrix_inverse[0][1]=-b/delta\n",
    "        matrix_inverse[1][0]=-c/delta\n",
    "        matrix_inverse[1][1]=a/delta\n",
    "        \n",
    "    ## TODO: Check if matrix is 1x1 or 2x2.\n",
    "    ## Depending on the matrix size, the formula for calculating\n",
    "    ## the inverse is different. \n",
    "    # If the matrix is 2x2, check that the matrix is invertible\n",
    "\n",
    "    elif len(matrix)==1:\n",
    "        matrix_inverse=[[1/matrix[0][0]]]\n",
    "\n",
    "    ## TODO: Calculate the inverse of the square 1x1 or 2x2 matrix.\n",
    "    inverse=matrix_inverse\n",
    "    print(inverse)\n",
    "    return inverse\n",
    "    \n",
    "    "
   ]
  },
  {
   "cell_type": "code",
   "execution_count": 13,
   "metadata": {},
   "outputs": [
    {
     "name": "stdout",
     "output_type": "stream",
     "text": [
      "[[0.01]]\n",
      "[[-0.03225806451612903, 0.16129032258064516], [0.22580645161290322, -0.12903225806451613]]\n"
     ]
    }
   ],
   "source": [
    "## TODO: Run this cell to check your output. If this cell does \n",
    "## not output anything your answers were as expected.\n",
    "\n",
    "assert inverse_matrix([[100]]) == [[0.01]]\n",
    "assert inverse_matrix([[4, 5], [7, 1]]) == [[-0.03225806451612903, 0.16129032258064516],\n",
    " [0.22580645161290322, -0.12903225806451613]]"
   ]
  },
  {
   "cell_type": "code",
   "execution_count": 14,
   "metadata": {},
   "outputs": [
    {
     "ename": "NameError",
     "evalue": "name 'testValueError' is not defined",
     "output_type": "error",
     "traceback": [
      "\u001b[1;31m---------------------------------------------------------------------------\u001b[0m",
      "\u001b[1;31mNameError\u001b[0m                                 Traceback (most recent call last)",
      "\u001b[1;32m<ipython-input-14-a57ce83b3ae1>\u001b[0m in \u001b[0;36m<module>\u001b[1;34m()\u001b[0m\n\u001b[0;32m      1\u001b[0m \u001b[1;31m### Run this line of code and see what happens. Because ad = bc, this\u001b[0m\u001b[1;33m\u001b[0m\u001b[1;33m\u001b[0m\u001b[0m\n\u001b[0;32m      2\u001b[0m \u001b[1;31m### matrix does not have an inverse\u001b[0m\u001b[1;33m\u001b[0m\u001b[1;33m\u001b[0m\u001b[0m\n\u001b[1;32m----> 3\u001b[1;33m \u001b[0minverse_matrix\u001b[0m\u001b[1;33m(\u001b[0m\u001b[1;33m[\u001b[0m\u001b[1;33m[\u001b[0m\u001b[1;36m4\u001b[0m\u001b[1;33m,\u001b[0m \u001b[1;36m2\u001b[0m\u001b[1;33m]\u001b[0m\u001b[1;33m,\u001b[0m \u001b[1;33m[\u001b[0m\u001b[1;36m14\u001b[0m\u001b[1;33m,\u001b[0m \u001b[1;36m7\u001b[0m\u001b[1;33m]\u001b[0m\u001b[1;33m]\u001b[0m\u001b[1;33m)\u001b[0m\u001b[1;33m\u001b[0m\u001b[0m\n\u001b[0m",
      "\u001b[1;32m<ipython-input-12-17a45c570039>\u001b[0m in \u001b[0;36minverse_matrix\u001b[1;34m(matrix)\u001b[0m\n\u001b[0;32m     38\u001b[0m         \u001b[0mdelta\u001b[0m\u001b[1;33m=\u001b[0m\u001b[0ma\u001b[0m\u001b[1;33m*\u001b[0m\u001b[0md\u001b[0m\u001b[1;33m-\u001b[0m\u001b[0mb\u001b[0m\u001b[1;33m*\u001b[0m\u001b[0mc\u001b[0m\u001b[1;33m\u001b[0m\u001b[0m\n\u001b[0;32m     39\u001b[0m         \u001b[1;32mif\u001b[0m \u001b[0mdelta\u001b[0m\u001b[1;33m==\u001b[0m\u001b[1;36m0\u001b[0m\u001b[1;33m:\u001b[0m\u001b[1;33m\u001b[0m\u001b[0m\n\u001b[1;32m---> 40\u001b[1;33m             \u001b[1;32mraise\u001b[0m \u001b[0mtestValueError\u001b[0m\u001b[1;33m(\u001b[0m\u001b[1;34m'The matrix is a non-invertible'\u001b[0m\u001b[1;33m)\u001b[0m\u001b[1;33m\u001b[0m\u001b[0m\n\u001b[0m\u001b[0;32m     41\u001b[0m \u001b[1;33m\u001b[0m\u001b[0m\n\u001b[0;32m     42\u001b[0m         \u001b[0mmatrix_inverse\u001b[0m\u001b[1;33m=\u001b[0m\u001b[0mmatrix\u001b[0m\u001b[1;33m\u001b[0m\u001b[0m\n",
      "\u001b[1;31mNameError\u001b[0m: name 'testValueError' is not defined"
     ]
    }
   ],
   "source": [
    "### Run this line of code and see what happens. Because ad = bc, this\n",
    "### matrix does not have an inverse\n",
    "inverse_matrix([[4, 2], [14, 7]])"
   ]
  },
  {
   "cell_type": "code",
   "execution_count": 11,
   "metadata": {},
   "outputs": [
    {
     "ename": "ValueError",
     "evalue": "The matrix is a non-invertible",
     "output_type": "error",
     "traceback": [
      "\u001b[1;31m---------------------------------------------------------------------------\u001b[0m",
      "\u001b[1;31mValueError\u001b[0m                                Traceback (most recent call last)",
      "\u001b[1;32m<ipython-input-11-b67f26ad65f4>\u001b[0m in \u001b[0;36m<module>\u001b[1;34m()\u001b[0m\n\u001b[0;32m      1\u001b[0m \u001b[1;31m### Run this line of code and see what happens. This is a 3x3 matrix\u001b[0m\u001b[1;33m\u001b[0m\u001b[1;33m\u001b[0m\u001b[0m\n\u001b[1;32m----> 2\u001b[1;33m \u001b[0minverse_matrix\u001b[0m\u001b[1;33m(\u001b[0m\u001b[1;33m[\u001b[0m\u001b[1;33m[\u001b[0m\u001b[1;36m4\u001b[0m\u001b[1;33m,\u001b[0m \u001b[1;36m5\u001b[0m\u001b[1;33m,\u001b[0m \u001b[1;36m1\u001b[0m\u001b[1;33m]\u001b[0m\u001b[1;33m,\u001b[0m \u001b[1;33m[\u001b[0m\u001b[1;36m2\u001b[0m\u001b[1;33m,\u001b[0m \u001b[1;36m9\u001b[0m\u001b[1;33m,\u001b[0m \u001b[1;36m7\u001b[0m\u001b[1;33m]\u001b[0m\u001b[1;33m,\u001b[0m \u001b[1;33m[\u001b[0m\u001b[1;36m6\u001b[0m\u001b[1;33m,\u001b[0m \u001b[1;36m3\u001b[0m\u001b[1;33m,\u001b[0m \u001b[1;36m9\u001b[0m\u001b[1;33m]\u001b[0m\u001b[1;33m]\u001b[0m\u001b[1;33m)\u001b[0m\u001b[1;33m\u001b[0m\u001b[0m\n\u001b[0m",
      "\u001b[1;32m<ipython-input-8-d88b9dba83ec>\u001b[0m in \u001b[0;36minverse_matrix\u001b[1;34m(matrix)\u001b[0m\n\u001b[0;32m     29\u001b[0m     \u001b[1;31m## If matrix is too large, then raise an error\u001b[0m\u001b[1;33m\u001b[0m\u001b[1;33m\u001b[0m\u001b[0m\n\u001b[0;32m     30\u001b[0m     \u001b[1;32mif\u001b[0m \u001b[0mlen\u001b[0m\u001b[1;33m(\u001b[0m\u001b[0mmatrix\u001b[0m\u001b[1;33m)\u001b[0m\u001b[1;33m>\u001b[0m\u001b[1;36m2\u001b[0m\u001b[1;33m:\u001b[0m\u001b[1;33m\u001b[0m\u001b[0m\n\u001b[1;32m---> 31\u001b[1;33m         \u001b[1;32mraise\u001b[0m \u001b[0mValueError\u001b[0m\u001b[1;33m(\u001b[0m\u001b[1;34m'The matrix is a non-invertible'\u001b[0m\u001b[1;33m)\u001b[0m\u001b[1;33m\u001b[0m\u001b[0m\n\u001b[0m\u001b[0;32m     32\u001b[0m     \u001b[1;32melif\u001b[0m \u001b[0mlen\u001b[0m\u001b[1;33m(\u001b[0m\u001b[0mmatrix\u001b[0m\u001b[1;33m)\u001b[0m\u001b[1;33m==\u001b[0m\u001b[1;36m2\u001b[0m\u001b[1;33m:\u001b[0m\u001b[1;33m\u001b[0m\u001b[0m\n\u001b[0;32m     33\u001b[0m \u001b[1;33m\u001b[0m\u001b[0m\n",
      "\u001b[1;31mValueError\u001b[0m: The matrix is a non-invertible"
     ]
    }
   ],
   "source": [
    "### Run this line of code and see what happens. This is a 3x3 matrix\n",
    "inverse_matrix([[4, 5, 1], [2, 9, 7], [6, 3, 9]])"
   ]
  }
 ],
 "metadata": {
  "kernelspec": {
   "display_name": "Python 3",
   "language": "python",
   "name": "python3"
  },
  "language_info": {
   "codemirror_mode": {
    "name": "ipython",
    "version": 3
   },
   "file_extension": ".py",
   "mimetype": "text/x-python",
   "name": "python",
   "nbconvert_exporter": "python",
   "pygments_lexer": "ipython3",
   "version": "3.7.0"
  }
 },
 "nbformat": 4,
 "nbformat_minor": 2
}
