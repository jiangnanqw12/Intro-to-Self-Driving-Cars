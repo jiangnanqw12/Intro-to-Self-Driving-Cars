{
 "cells": [
  {
   "cell_type": "code",
   "execution_count": 3,
   "metadata": {},
   "outputs": [
    {
     "name": "stdout",
     "output_type": "stream",
     "text": [
      "The autoreload extension is already loaded. To reload it, use:\n",
      "  %reload_ext autoreload\n"
     ]
    }
   ],
   "source": [
    "# Run this cell but don't modify it.\n",
    "\n",
    "%load_ext autoreload\n",
    "%autoreload 2\n",
    "from matrix import Matrix, zeroes, identity"
   ]
  },
  {
   "cell_type": "code",
   "execution_count": 4,
   "metadata": {},
   "outputs": [
    {
     "name": "stdout",
     "output_type": "stream",
     "text": [
      "m1 is\n",
      "1  2 \n",
      "3  4 \n",
      "\n",
      "m2 is\n",
      "2  5 \n",
      "6  1 \n",
      "\n",
      "we've also provided you with a function called zeros\n",
      "here's what happens when you call zeros(4,2)\n",
      "0.0  0.0 \n",
      "0.0  0.0 \n",
      "0.0  0.0 \n",
      "0.0  0.0 \n",
      "\n",
      "we've also provided you with a function called identity\n",
      "here's identity(3)\n",
      "1.0  0.0  0.0 \n",
      "0.0  1.0  0.0 \n",
      "0.0  0.0  1.0 \n",
      "\n",
      "but not everything works yet!\n",
      "for example, matrix addition...\n",
      "run the cell below to see what happens when we try...\n"
     ]
    }
   ],
   "source": [
    "# some functionality already exists... here's a demo\n",
    "\n",
    "m1 = Matrix([\n",
    "    [1, 2],\n",
    "    [3, 4]\n",
    "])\n",
    "\n",
    "m2 = Matrix([\n",
    "    [2, 5],\n",
    "    [6, 1]\n",
    "])\n",
    "\n",
    "print(\"m1 is\")\n",
    "print(m1)\n",
    "\n",
    "print(\"m2 is\")\n",
    "print(m2)\n",
    "\n",
    "print(\"we've also provided you with a function called zeros\")\n",
    "print(\"here's what happens when you call zeros(4,2)\")\n",
    "print(zeroes(4,2))\n",
    "\n",
    "print(\"we've also provided you with a function called identity\")\n",
    "print(\"here's identity(3)\")\n",
    "print(identity(3))\n",
    "\n",
    "print(\"but not everything works yet!\")\n",
    "print(\"for example, matrix addition...\")\n",
    "print(\"run the cell below to see what happens when we try...\")"
   ]
  },
  {
   "cell_type": "code",
   "execution_count": 5,
   "metadata": {},
   "outputs": [
    {
     "name": "stdout",
     "output_type": "stream",
     "text": [
      "m1 + m2 is\n",
      "3  7 \n",
      "9  5 \n",
      "\n"
     ]
    }
   ],
   "source": [
    "m1 = Matrix([\n",
    "    [1, 2],\n",
    "    [3, 4]\n",
    "])\n",
    "\n",
    "m2 = Matrix([\n",
    "    [2, 5],\n",
    "    [6, 1]\n",
    "])\n",
    "\n",
    "m3 = m1 + m2\n",
    "print(\"m1 + m2 is\")\n",
    "print(m3)"
   ]
  },
  {
   "cell_type": "code",
   "execution_count": 31,
   "metadata": {},
   "outputs": [
    {
     "name": "stdout",
     "output_type": "stream",
     "text": [
      "1  0 \n",
      "0  1 \n",
      "\n",
      "-1  0 \n",
      "0  -1 \n",
      "\n",
      "1  0 \n",
      "0  1 \n",
      "\n",
      "-1  0 \n",
      "0  -1 \n",
      "\n",
      "0  0 \n",
      "0  0 \n",
      "\n",
      "0  0 \n",
      "0  0 \n",
      "\n"
     ]
    },
    {
     "ename": "AssertionError",
     "evalue": "Error in your __add__ function",
     "output_type": "error",
     "traceback": [
      "\u001b[1;31m---------------------------------------------------------------------------\u001b[0m",
      "\u001b[1;31mAssertionError\u001b[0m                            Traceback (most recent call last)",
      "\u001b[1;32m<ipython-input-31-daeb08264590>\u001b[0m in \u001b[0;36m<module>\u001b[1;34m()\u001b[0m\n\u001b[0;32m      6\u001b[0m \u001b[1;31m# and then selecting matrix.py\u001b[0m\u001b[1;33m\u001b[0m\u001b[1;33m\u001b[0m\u001b[0m\n\u001b[0;32m      7\u001b[0m \u001b[1;33m\u001b[0m\u001b[0m\n\u001b[1;32m----> 8\u001b[1;33m \u001b[1;32mimport\u001b[0m \u001b[0mtest\u001b[0m\u001b[1;33m\u001b[0m\u001b[0m\n\u001b[0m",
      "\u001b[1;32m~\\Documents\\GitHub\\Intro-to-Self-Driving-Cars\\4.Working with Matrices\\Project Implment Matrix Class\\test.py\u001b[0m in \u001b[0;36m<module>\u001b[1;34m()\u001b[0m\n\u001b[0;32m    100\u001b[0m     \u001b[1;32mreturn\u001b[0m \u001b[1;32mTrue\u001b[0m\u001b[1;33m\u001b[0m\u001b[0m\n\u001b[0;32m    101\u001b[0m \u001b[1;33m\u001b[0m\u001b[0m\n\u001b[1;32m--> 102\u001b[1;33m \u001b[0mtest\u001b[0m\u001b[1;33m(\u001b[0m\u001b[1;33m)\u001b[0m\u001b[1;33m\u001b[0m\u001b[0m\n\u001b[0m",
      "\u001b[1;32m~\\Documents\\GitHub\\Intro-to-Self-Driving-Cars\\4.Working with Matrices\\Project Implment Matrix Class\\test.py\u001b[0m in \u001b[0;36mtest\u001b[1;34m()\u001b[0m\n\u001b[0;32m     67\u001b[0m     \u001b[0mprint\u001b[0m\u001b[1;33m(\u001b[0m\u001b[0mI2\u001b[0m \u001b[1;33m+\u001b[0m \u001b[0mI2_neg\u001b[0m\u001b[1;33m)\u001b[0m\u001b[1;33m\u001b[0m\u001b[0m\n\u001b[0;32m     68\u001b[0m     \u001b[0mprint\u001b[0m\u001b[1;33m(\u001b[0m\u001b[0mzero\u001b[0m\u001b[1;33m)\u001b[0m\u001b[1;33m\u001b[0m\u001b[0m\n\u001b[1;32m---> 69\u001b[1;33m     \u001b[1;32massert\u001b[0m \u001b[0mequal\u001b[0m\u001b[1;33m(\u001b[0m\u001b[0mI2\u001b[0m \u001b[1;33m+\u001b[0m \u001b[0mI2_neg\u001b[0m\u001b[1;33m,\u001b[0m \u001b[0mzero\u001b[0m\u001b[1;33m)\u001b[0m\u001b[1;33m,\u001b[0m \u001b[1;34m\"Error in your __add__ function\"\u001b[0m\u001b[1;33m\u001b[0m\u001b[0m\n\u001b[0m\u001b[0;32m     70\u001b[0m \u001b[1;33m\u001b[0m\u001b[0m\n\u001b[0;32m     71\u001b[0m     \u001b[1;32massert\u001b[0m \u001b[0mequal\u001b[0m\u001b[1;33m(\u001b[0m\u001b[0mm1\u001b[0m \u001b[1;33m*\u001b[0m \u001b[0mm2\u001b[0m\u001b[1;33m,\u001b[0m \u001b[0mm1_x_m2\u001b[0m\u001b[1;33m)\u001b[0m\u001b[1;33m,\u001b[0m \u001b[1;34m\"Error in your __mul__ function\"\u001b[0m\u001b[1;33m\u001b[0m\u001b[0m\n",
      "\u001b[1;31mAssertionError\u001b[0m: Error in your __add__ function"
     ]
    }
   ],
   "source": [
    "# Try running this code. You should get an assertion error. \n",
    "# You will continue to get assertion errors until all the \n",
    "# methods in matrix.py are correctly implemented.\n",
    "\n",
    "# You can open matrix.py by selecting File > Open... \n",
    "# and then selecting matrix.py\n",
    "\n",
    "import test"
   ]
  },
  {
   "cell_type": "code",
   "execution_count": null,
   "metadata": {
    "collapsed": true
   },
   "outputs": [],
   "source": [
    "# open matrix.py (File > Open...) and start\n",
    "# implementing matrix methods! \n",
    "\n",
    "# when your code passes all the tests you can submit by \n",
    "# pressing the SUBMIT button in the lower right corner \n",
    "# of this page."
   ]
  },
  {
   "cell_type": "code",
   "execution_count": 19,
   "metadata": {},
   "outputs": [
    {
     "data": {
      "text/plain": [
       "'\\n\\nassert equal(-I2, I2_neg), \"Error in your __neg__ function\"\\n#print(I2 + I2_neg)\\n#print(zero)\\nassert equal(I2 + I2_neg, zero), \"Error in your __add__ function\"\\n\\nassert equal(m1 * m2, m1_x_m2), \"Error in your __mul__ function\"\\nassert equal(m2 * m1, m2_x_m1), \"Error in your __mul__ function\"\\nassert equal(m3.inverse(), m3_inv), \"\"\"Error in your inverse function for the 1 x 1 case\"\"\"\\nassert equal(m1_x_m2.inverse(), m1_m2_inv), \"\"\"Error in your inverse function for the first 2 x 2 case\"\"\"\\nassert equal(I2.inverse(), I2), \"\"\"Error in your inverse function for the second 2 x 2 case\"\"\"\\nassert equal(top_ones.T(), left_ones), \"Error in your T function (transpose)\"\\nassert equal(left_ones.T(), top_ones), \"Error in your T function (transpose)\"\\nassert equal(top_ones - left_ones.T(), m.zeroes(2,2)), \"Error in your __sub__ function\"\\nassert (4*m.identity(5))[0][0] == 4, \"Error in your __rmul__ function\"\\nassert (4*m.identity(5)).trace() == 20 , \"Error in your trace function\"\\n\\nassert type(-I2) == type(I2_neg), \"Error: Your __neg__ function does not return a Matrix does not return a Matrix\"\\nassert type(I2 + I2_neg) == type(zero), \"Error: Your __add__ function does not return a Matrix\"\\nassert type(m1 * m2) == type(m1_x_m2), \"Error: Your __mul__ function does not return a Matrix\"\\nassert type(m2 * m1) == type(m2_x_m1), \"Error: Your __mul__ function does not return a Matrix\"\\nassert type(m3.inverse()) == type(m3_inv), \"\"\"Error: Your inverse function for the 1 x 1 case does not return a Matrix\"\"\"\\nassert type(I2.inverse()) == type(I2), \"\"\"Error: Your inverse function for the 2 x 2 case does not return a Matrix\"\"\"\\nassert type(top_ones.T()) == type(left_ones), \"Error: Your T function (transpose) does not return a Matrix\"\\nassert type(left_ones.T()) == type(top_ones), \"Error: Your T function (transpose) does not return a Matrix\"\\nassert type(top_ones - left_ones.T()) == type(m.zeroes(2,2)), \"Error: Your __sub__ function does not return a Matrix\"\\nprint(\"Congratulations! All tests pass. Your Matrix class is working as expected.\")\\n\\ndef equal(m1, m2):\\nif len(m1.g) != len(m2.g): return False\\nif len(m1.g[0]) != len(m2.g[0]): return False\\nfor r1, r2 in zip(m1.g, m2.g):\\n    for v1, v2 in zip(r1, r2):\\n        if abs(v1 - v2) > 0.0001:\\n            return False\\nreturn True\\n'"
      ]
     },
     "execution_count": 19,
     "metadata": {},
     "output_type": "execute_result"
    }
   ],
   "source": [
    "import matrix as m\n",
    "I2 = m.Matrix([\n",
    "    [1, 0],\n",
    "    [0, 1]\n",
    "    ])\n",
    "I2_neg = m.Matrix([\n",
    "    [-1, 0],\n",
    "    [0, -1]\n",
    "    ])\n",
    "\n",
    "zero = m.Matrix([\n",
    "    [0,0],\n",
    "    [0,0]\n",
    "    ])\n",
    "\n",
    "m1 = m.Matrix([\n",
    "    [1,2,3],\n",
    "    [4,5,6]\n",
    "    ])\n",
    "\n",
    "m2 = m.Matrix([\n",
    "    [7,-2],\n",
    "    [-3,-5],\n",
    "    [4,1]\n",
    "    ])\n",
    "\n",
    "m3 = m.Matrix([\n",
    "    [8]\n",
    "    ])\n",
    "\n",
    "m3_inv = m.Matrix([\n",
    "    [0.125]\n",
    "    ])\n",
    "\n",
    "m1_x_m2 = m.Matrix([\n",
    "    [ 13,  -9],\n",
    "    [ 37, -27]])\n",
    "\n",
    "m2_x_m1 = m.Matrix([\n",
    "    [ -1,   4,   9],\n",
    "    [-23, -31, -39],\n",
    "    [  8,  13,  18]])\n",
    "\n",
    "m1_m2_inv = m.Matrix([\n",
    "    [1.5, -0.5],\n",
    "    [2.0555556, -0.722222222]\n",
    "    ])\n",
    "\n",
    "top_ones = m.Matrix([\n",
    "    [1,1],\n",
    "    [0,0],\n",
    "    ])\n",
    "\n",
    "left_ones = m.Matrix([\n",
    "    [1,0],\n",
    "    [1,0]\n",
    "    ])\n",
    "'''\n",
    "\n",
    "assert equal(-I2, I2_neg), \"Error in your __neg__ function\"\n",
    "#print(I2 + I2_neg)\n",
    "#print(zero)\n",
    "assert equal(I2 + I2_neg, zero), \"Error in your __add__ function\"\n",
    "\n",
    "assert equal(m1 * m2, m1_x_m2), \"Error in your __mul__ function\"\n",
    "assert equal(m2 * m1, m2_x_m1), \"Error in your __mul__ function\"\n",
    "assert equal(m3.inverse(), m3_inv), \"\"\"Error in your inverse function for the 1 x 1 case\"\"\"\n",
    "assert equal(m1_x_m2.inverse(), m1_m2_inv), \"\"\"Error in your inverse function for the first 2 x 2 case\"\"\"\n",
    "assert equal(I2.inverse(), I2), \"\"\"Error in your inverse function for the second 2 x 2 case\"\"\"\n",
    "assert equal(top_ones.T(), left_ones), \"Error in your T function (transpose)\"\n",
    "assert equal(left_ones.T(), top_ones), \"Error in your T function (transpose)\"\n",
    "assert equal(top_ones - left_ones.T(), m.zeroes(2,2)), \"Error in your __sub__ function\"\n",
    "assert (4*m.identity(5))[0][0] == 4, \"Error in your __rmul__ function\"\n",
    "assert (4*m.identity(5)).trace() == 20 , \"Error in your trace function\"\n",
    "\n",
    "assert type(-I2) == type(I2_neg), \"Error: Your __neg__ function does not return a Matrix does not return a Matrix\"\n",
    "assert type(I2 + I2_neg) == type(zero), \"Error: Your __add__ function does not return a Matrix\"\n",
    "assert type(m1 * m2) == type(m1_x_m2), \"Error: Your __mul__ function does not return a Matrix\"\n",
    "assert type(m2 * m1) == type(m2_x_m1), \"Error: Your __mul__ function does not return a Matrix\"\n",
    "assert type(m3.inverse()) == type(m3_inv), \"\"\"Error: Your inverse function for the 1 x 1 case does not return a Matrix\"\"\"\n",
    "assert type(I2.inverse()) == type(I2), \"\"\"Error: Your inverse function for the 2 x 2 case does not return a Matrix\"\"\"\n",
    "assert type(top_ones.T()) == type(left_ones), \"Error: Your T function (transpose) does not return a Matrix\"\n",
    "assert type(left_ones.T()) == type(top_ones), \"Error: Your T function (transpose) does not return a Matrix\"\n",
    "assert type(top_ones - left_ones.T()) == type(m.zeroes(2,2)), \"Error: Your __sub__ function does not return a Matrix\"\n",
    "print(\"Congratulations! All tests pass. Your Matrix class is working as expected.\")\n",
    "\n",
    "def equal(m1, m2):\n",
    "if len(m1.g) != len(m2.g): return False\n",
    "if len(m1.g[0]) != len(m2.g[0]): return False\n",
    "for r1, r2 in zip(m1.g, m2.g):\n",
    "    for v1, v2 in zip(r1, r2):\n",
    "        if abs(v1 - v2) > 0.0001:\n",
    "            return False\n",
    "return True\n",
    "'''\n"
   ]
  },
  {
   "cell_type": "code",
   "execution_count": 20,
   "metadata": {},
   "outputs": [
    {
     "name": "stdout",
     "output_type": "stream",
     "text": [
      "0  0 \n",
      "0  0 \n",
      "\n"
     ]
    }
   ],
   "source": [
    "print(I2 + I2_neg)"
   ]
  },
  {
   "cell_type": "code",
   "execution_count": null,
   "metadata": {},
   "outputs": [],
   "source": []
  }
 ],
 "metadata": {
  "kernelspec": {
   "display_name": "Python 3",
   "language": "python",
   "name": "python3"
  }
 },
 "nbformat": 4,
 "nbformat_minor": 2
}
