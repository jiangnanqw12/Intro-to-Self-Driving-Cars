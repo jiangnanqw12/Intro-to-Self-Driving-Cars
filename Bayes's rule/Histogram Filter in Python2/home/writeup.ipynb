{
 "cells": [
  {
   "cell_type": "markdown",
   "metadata": {},
   "source": [
    "# Two Dimensional Histogram Filter - Your First Feature (and your first bug).\n",
    "Writing code is important. But a big part of being on a self driving car team is working with a **large** existing codebase. On high stakes engineering projects like a self driving car, you will probably have to earn the trust of your managers and coworkers before they'll let you make substantial changes to the code base. \n",
    "\n",
    "A typical assignment for someone new to a team is to make progress on a backlog of bugs. So with that in mind, that's what you will be doing for your first project in the Nanodegree.\n",
    "\n",
    "You'll go through this project in a few parts:\n",
    "\n",
    "1. **Explore the Code** - don't worry about bugs at this point. The goal is to get a feel for how this code base is organized and what everything does.\n",
    "2. **Implement a Feature** - write code that gets the robot moving correctly.\n",
    "3. **Fix a Bug** - Implementing motion will reveal a bug which hadn't shown up before. Here you'll identify what the bug is and take steps to reproduce it. Then you'll identify the cause and fix it.\n"
   ]
  },
  {
   "cell_type": "markdown",
   "metadata": {},
   "source": [
    "## Part 1: Exploring the code\n",
    "In this section you will just run some existing code to get a feel for what this localizer does.\n",
    "\n",
    "You can navigate through this notebook using the arrow keys on your keyboard. You can run the code in a cell by pressing **`Ctrl + Enter`**\n",
    "\n",
    "Navigate through the cells below. In each cell you should\n",
    "\n",
    "1. Read through the code. It's okay to not understand everything at this point. \n",
    "2. Make a guess about what will happen when you run the code. \n",
    "3. Run the code and compare what you see with what you expected. \n",
    "4. When you get to a **TODO** read the instructions carefully and complete the activity.\n",
    "\n"
   ]
  },
  {
   "cell_type": "code",
   "execution_count": 1,
   "metadata": {},
   "outputs": [],
   "source": [
    "# This code \"imports\" code from some of the other files we've written\n",
    "# in this directory. Specifically simulate.py and helpers.py\n",
    "import simulate as sim\n",
    "import helpers\n",
    "import localizer\n",
    "\n",
    "# Don't worry too much about this code for now...\n",
    "from __future__ import division, print_function\n",
    "%load_ext autoreload\n",
    "%autoreload 2"
   ]
  },
  {
   "cell_type": "code",
   "execution_count": 2,
   "metadata": {},
   "outputs": [
    {
     "data": {
      "image/png": "[encoded data removed]",
      "text/plain": [
       "<Figure size 432x288 with 1 Axes>"
      ]
     },
     "metadata": {
      "needs_background": "light"
     },
     "output_type": "display_data"
    }
   ],
   "source": [
    "# This code defines a 5x5 robot world as well as some other parameters\n",
    "# which we will discuss later. It then creates a simulation and shows \n",
    "# the initial beliefs. \n",
    "R = 'r'\n",
    "G = 'g'\n",
    "grid = [\n",
    "    [R,G,G,G,R],\n",
    "    [G,G,R,G,R],\n",
    "    [G,R,G,G,G],\n",
    "    [R,R,G,R,G],\n",
    "    [R,G,R,G,R],\n",
    "]\n",
    "blur = 0.05\n",
    "p_hit = 200.0\n",
    "simulation = sim.Simulation(grid, blur, p_hit)\n",
    "simulation.show_beliefs()"
   ]
  },
  {
   "cell_type": "markdown",
   "metadata": {},
   "source": [
    "Run the code below multiple times by repeatedly pressing Ctrl + Enter.\n",
    "\n",
    "After each run observe how the state has changed. "
   ]
  },
  {
   "cell_type": "code",
   "execution_count": 3,
   "metadata": {},
   "outputs": [
    {
     "data": {
      "image/png": "[encoded data removed]",
      "text/plain": [
       "<Figure size 432x288 with 1 Axes>"
      ]
     },
     "metadata": {
      "needs_background": "light"
     },
     "output_type": "display_data"
    }
   ],
   "source": [
    "simulation.run(1)\n",
    "simulation.show_beliefs()\n"
   ]
  },
  {
   "cell_type": "markdown",
   "metadata": {},
   "source": [
    "What do you think this call to `run` is doing? Look at the code in **`simulate.py`** to find out (remember - you can see other files in the current directory by clicking on the `jupyter` logo in the top left of this notebook).\n",
    "\n",
    "Spend a few minutes looking at the `run` method and the methods it calls to get a sense for what's going on."
   ]
  },
  {
   "cell_type": "markdown",
   "metadata": {},
   "source": [
    "#### What am I looking at?\n",
    "\n",
    "The red star shows the robot's true position. The blue circles indicate the strength of the robot's belief that it is at any particular location.\n",
    "\n",
    "Ideally we want the biggest blue circle to be at the same position as the red star."
   ]
  },
  {
   "cell_type": "code",
   "execution_count": 4,
   "metadata": {},
   "outputs": [],
   "source": [
    "# We will provide you with the function below to help you look\n",
    "# at the raw numbers.\n",
    "\n",
    "def show_rounded_beliefs(beliefs):\n",
    "    for row in beliefs:\n",
    "        for belief in row:\n",
    "            print(\"{:0.3f}\".format(belief), end=\"  \")\n",
    "        print()\n",
    "        \n",
    "# The {:0.3f} notation is an example of \"string \n",
    "# formatting\" in Python. You can learn more about string \n",
    "# formatting at https://pyformat.info/"
   ]
  },
  {
   "cell_type": "code",
   "execution_count": 5,
   "metadata": {},
   "outputs": [
    {
     "name": "stdout",
     "output_type": "stream",
     "text": [
      "0.070  0.004  0.070  0.003  0.069  \n",
      "0.003  0.069  0.070  0.070  0.069  \n",
      "0.002  0.069  0.003  0.069  0.002  \n",
      "0.069  0.003  0.069  0.002  0.002  \n",
      "0.070  0.070  0.069  0.002  0.002  \n"
     ]
    }
   ],
   "source": [
    "show_rounded_beliefs(simulation.beliefs)"
   ]
  },
  {
   "cell_type": "markdown",
   "metadata": {},
   "source": [
    "_____"
   ]
  },
  {
   "cell_type": "markdown",
   "metadata": {},
   "source": [
    "## Part 2: Implement a 2D sense function.\n",
    "As you can see, the robot's beliefs aren't changing. No matter how many times we call the simulation's sense method, nothing happens. The beliefs remain uniform."
   ]
  },
  {
   "cell_type": "markdown",
   "metadata": {},
   "source": [
    "### Instructions\n",
    "1. Open `localizer.py` and complete the `sense` function.\n",
    "3. Run the code in the cell below to import the localizer module (or reload it) and then test your sense function.\n",
    "4. If the test passes, you've successfully implemented your first feature! Keep going with the project. If your tests don't pass (they likely won't the first few times you test), keep making modifications to the `sense` function until they do!"
   ]
  },
  {
   "cell_type": "code",
   "execution_count": 6,
   "metadata": {},
   "outputs": [
    {
     "name": "stdout",
     "output_type": "stream",
     "text": [
      "Tests pass! Your sense function is working as expected\n"
     ]
    }
   ],
   "source": [
    "reload(localizer)\n",
    "def test_sense():\n",
    "    R = 'r'\n",
    "    _ = 'g'\n",
    "\n",
    "    simple_grid = [\n",
    "        [_,_,_],\n",
    "        [_,R,_],\n",
    "        [_,_,_]\n",
    "    ]\n",
    "\n",
    "    p = 1.0 / 9\n",
    "    initial_beliefs = [\n",
    "        [p,p,p],\n",
    "        [p,p,p],\n",
    "        [p,p,p]\n",
    "    ]\n",
    "\n",
    "    observation = R\n",
    "\n",
    "    expected_beliefs_after = [\n",
    "        [1/11, 1/11, 1/11],\n",
    "        [1/11, 3/11, 1/11],\n",
    "        [1/11, 1/11, 1/11]\n",
    "    ]\n",
    "\n",
    "    p_hit  = 3.0\n",
    "    p_miss = 1.0\n",
    "    beliefs_after_sensing = localizer.sense(\n",
    "        observation, simple_grid, initial_beliefs, p_hit, p_miss)\n",
    "\n",
    "    if helpers.close_enough(beliefs_after_sensing, expected_beliefs_after):\n",
    "        print(\"Tests pass! Your sense function is working as expected\")\n",
    "        return\n",
    "    \n",
    "    elif not isinstance(beliefs_after_sensing, list):\n",
    "        print(\"Your sense function doesn't return a list!\")\n",
    "        return\n",
    "        \n",
    "    elif len(beliefs_after_sensing) != len(expected_beliefs_after):\n",
    "        print(\"Dimensionality error! Incorrect height\")\n",
    "        return\n",
    "              \n",
    "    elif len(beliefs_after_sensing[0] ) != len(expected_beliefs_after[0]):\n",
    "        print(\"Dimensionality Error! Incorrect width\")\n",
    "        return\n",
    "    \n",
    "    elif beliefs_after_sensing == initial_beliefs:\n",
    "        print(\"Your code returns the initial beliefs.\")\n",
    "        return\n",
    "        \n",
    "    total_probability = 0.0\n",
    "    for row in beliefs_after_sensing:\n",
    "        for p in row:\n",
    "            total_probability += p\n",
    "    if abs(total_probability-1.0) > 0.001:\n",
    "        \n",
    "        print(\"Your beliefs appear to not be normalized\")\n",
    "        return\n",
    "    \n",
    "    print(\"Something isn't quite right with your sense function\")\n",
    "\n",
    "test_sense()"
   ]
  },
  {
   "cell_type": "markdown",
   "metadata": {},
   "source": [
    "## Integration Testing\n",
    "Before we call this \"complete\" we should perform an **integration test**. We've verified that the sense function works on it's own, but does the localizer work overall?\n",
    "\n",
    "Let's perform an integration test. First you you should execute the code in the cell below to prepare the simulation environment."
   ]
  },
  {
   "cell_type": "code",
   "execution_count": 7,
   "metadata": {},
   "outputs": [],
   "source": [
    "from simulate import Simulation\n",
    "import simulate as sim\n",
    "import helpers\n",
    "reload(localizer)\n",
    "reload(sim)\n",
    "reload(helpers)\n",
    "\n",
    "R = 'r'\n",
    "G = 'g'\n",
    "grid = [\n",
    "    [R,G,G,G,R,R,R],\n",
    "    [G,G,R,G,R,G,R],\n",
    "    [G,R,G,G,G,G,R],\n",
    "    [R,R,G,R,G,G,G],\n",
    "    [R,G,R,G,R,R,R],\n",
    "    [G,R,R,R,G,R,G],\n",
    "    [R,R,R,G,R,G,G],\n",
    "]\n",
    "\n",
    "# Use small value for blur. This parameter is used to represent\n",
    "# the uncertainty in MOTION, not in sensing. We want this test\n",
    "# to focus on sensing functionality\n",
    "blur = 0.1\n",
    "p_hit = 100.0\n",
    "simulation = sim.Simulation(grid, blur, p_hit)"
   ]
  },
  {
   "cell_type": "code",
   "execution_count": 8,
   "metadata": {},
   "outputs": [
    {
     "data": {
      "image/png": "[encoded data removed]",
      "text/plain": [
       "<Figure size 432x288 with 1 Axes>"
      ]
     },
     "metadata": {
      "needs_background": "light"
     },
     "output_type": "display_data"
    }
   ],
   "source": [
    "# Use control+Enter to run this cell many times and observe how \n",
    "# the robot's belief that it is in each cell (represented by the\n",
    "# size of the corresponding circle) changes as the robot moves.\n",
    "# The true position of the robot is given by the red star.\n",
    "\n",
    "# Run this cell about 15-25 times and observe the results\n",
    "simulation.run(1)\n",
    "simulation.show_beliefs()\n",
    "\n",
    "# If everything is working correctly you should see the beliefs\n",
    "# converge to a single large circle at the same position as the \n",
    "# red star. Though, if your sense function is implemented correctly\n",
    "# and this output is not converging as expected.. it may have to do\n",
    "# with the `move` function bug; your next task!\n",
    "#\n",
    "# When you are satisfied that everything is working, continue\n",
    "# to the next section"
   ]
  },
  {
   "cell_type": "markdown",
   "metadata": {},
   "source": [
    "## Part 3: Identify and Reproduce a Bug\n",
    "Software has bugs. That's okay.\n",
    "\n",
    "A user of your robot called tech support with a complaint\n",
    "\n",
    "> \"So I was using your robot in a square room and everything was fine. Then I tried loading in a map for a rectangular room and it drove around for a couple seconds and then suddenly stopped working. Fix it!\"\n",
    "\n",
    "Now we have to debug. We are going to use a systematic approach.\n",
    "\n",
    "1. Reproduce the bug\n",
    "2. Read (and understand) the error message (when one exists)\n",
    "3. Write a test that triggers the bug.\n",
    "4. Generate a hypothesis for the cause of the bug.\n",
    "5. Try a solution. If it fixes the bug, great! If not, go back to step 4."
   ]
  },
  {
   "cell_type": "markdown",
   "metadata": {},
   "source": [
    "### Step 1: Reproduce the bug\n",
    "The user said that **rectangular environments** seem to be causing the bug. \n",
    "\n",
    "The code below is the same as the code you were working with when you were doing integration testing of your new feature. See if you can modify it to reproduce the bug."
   ]
  },
  {
   "cell_type": "code",
   "execution_count": 9,
   "metadata": {},
   "outputs": [
    {
     "data": {
      "image/png": "[encoded data removed]",
      "text/plain": [
       "<Figure size 432x288 with 1 Axes>"
      ]
     },
     "metadata": {
      "needs_background": "light"
     },
     "output_type": "display_data"
    }
   ],
   "source": [
    "from simulate import Simulation\n",
    "import simulate as sim\n",
    "import helpers\n",
    "reload(localizer)\n",
    "reload(sim)\n",
    "reload(helpers)\n",
    "\n",
    "R = 'r'\n",
    "G = 'g'\n",
    "\n",
    "grid = [ \n",
    "    [R,G,G,G,R,R,R],\n",
    "    [G,G,R,G,R,G,R],\n",
    "    [G,R,G,G,G,G,R],\n",
    "    [R,R,G,R,G,G,G],\n",
    "]\n",
    "\n",
    "blur = 0.001\n",
    "p_hit = 100.0\n",
    "simulation = sim.Simulation(grid, blur, p_hit)\n",
    "\n",
    "# remember, the user said that the robot would sometimes drive around for a bit...\n",
    "# It may take several calls to \"simulation.run\" to actually trigger the bug.\n",
    "simulation.run(1)\n",
    "simulation.show_beliefs()"
   ]
  },
  {
   "cell_type": "code",
   "execution_count": 10,
   "metadata": {},
   "outputs": [],
   "source": [
    "simulation.run(1)"
   ]
  },
  {
   "cell_type": "markdown",
   "metadata": {},
   "source": [
    "### Step 2: Read and Understand the error message\n",
    "If you triggered the bug, you should see an error message directly above this cell. The end of that message should say:\n",
    "\n",
    "```\n",
    "IndexError: list index out of range\n",
    "```\n",
    "\n",
    "And just above that you should see something like\n",
    "\n",
    "```\n",
    "path/to/your/directory/localizer.pyc in move(dy, dx, beliefs, blurring)\n",
    "     38             new_i = (i + dy ) % width\n",
    "     39             new_j = (j + dx ) % height\n",
    "---> 40             new_G[int(new_i)][int(new_j)] = cell\n",
    "     41     return blur(new_G, blurring)\n",
    "```\n",
    "\n",
    "This tells us that line 40 (in the move function) is causing an `IndexError` because \"list index out of range\".\n",
    "\n",
    "If you aren't sure what this means, use Google! \n",
    "\n",
    "Copy and paste `IndexError: list index out of range` into Google! When I do that, I see something like this:\n",
    "\n",
    "![Search Results](http://i.imgur.com/gleBmBy.png)\n",
    "\n",
    "Browse through the top links (often these will come from stack overflow) and read what people have said about this error until you are satisfied you understand how it's caused."
   ]
  },
  {
   "cell_type": "markdown",
   "metadata": {},
   "source": [
    "### Step 3: Write a test that reproduces the bug\n",
    "This will help you know when you've fixed it and help you make sure you never reintroduce it in the future. You might have to try many potential solutions, so it will be nice to have a single function to call to confirm whether or not the bug is fixed"
   ]
  },
  {
   "cell_type": "code",
   "execution_count": 11,
   "metadata": {},
   "outputs": [],
   "source": [
    "# According to the user, sometimes the robot actually does run \"for a while\" \n",
    "# - How can you change the code so the robot runs \"for a while\"?\n",
    "# - How many times do you need to call simulation.run() to consistently\n",
    "#   reproduce the bug?\n",
    "# Modify the code below so that when the function is called \n",
    "# it consistently reproduces the bug.\n",
    "def test_robot_works_in_rectangle_world():\n",
    "    from simulate import Simulation\n",
    "    import simulate as sim\n",
    "    import helpers\n",
    "    reload(localizer)\n",
    "    reload(sim)\n",
    "    reload(helpers)\n",
    "\n",
    "    R = 'r'\n",
    "    G = 'g'\n",
    "\n",
    "    grid = [ \n",
    "        [R,G,G,G,R,R,R],\n",
    "        [G,G,R,G,R,G,R],\n",
    "        [G,R,G,G,G,G,R],\n",
    "        [R,R,G,R,G,G,G],\n",
    "    ]\n",
    "\n",
    "    blur = 0.001\n",
    "    p_hit = 100.0\n",
    "    for i in range(1000):\n",
    "        simulation = sim.Simulation(grid, blur, p_hit)\n",
    "        simulation.run(1)\n",
    "    \n",
    "test_robot_works_in_rectangle_world()"
   ]
  },
  {
   "cell_type": "markdown",
   "metadata": {},
   "source": [
    "### Step 4: Generate a Hypothesis\n",
    "In order to have a guess about what's causing the problem, it will be helpful to use some Python debuggin tools\n",
    "\n",
    "The `pdb` module (`p`ython `d`e`b`ugger) will be helpful here!\n",
    "\n",
    "#### Setting up the debugger \n",
    "1. Open `localizer.py` and uncomment the line to the top that says `import pdb`\n",
    "2. Just before the line of code that is causing the bug `new_G[int(new_i)][int(new_j)] = cell`, add a new line of code that says `pdb.set_trace()`\n",
    "3. Run your test by calling your test function (run the cell below this one)\n",
    "4. You should see a text entry box pop up! For now, type `c` into the box and hit enter to **c**ontinue program execution. Keep typing `c` and enter until the bug is triggered again"
   ]
  },
  {
   "cell_type": "code",
   "execution_count": 12,
   "metadata": {},
   "outputs": [],
   "source": [
    "test_robot_works_in_rectangle_world()"
   ]
  },
  {
   "cell_type": "markdown",
   "metadata": {},
   "source": [
    "#### Using the debugger\n",
    "The debugger works by pausing program execution wherever you write `pdb.set_trace()` in your code. You also have access to any variables which are accessible from that point in your code. \n",
    "\n",
    "Try running your test again. This time, when the text entry box shows up, type `new_i` and hit enter. You will see the value of the `new_i` variable show up in the debugger window. Play around with the debugger: find the values of `new_j`, `height`, and `width`. Do they seem reasonable / correct?\n",
    "\n",
    "When you are done playing around, type `c` to continue program execution. Was the bug triggered? Keep playing until you have a guess about what is causing the bug."
   ]
  },
  {
   "cell_type": "markdown",
   "metadata": {},
   "source": [
    "### Step 5: Write a Fix\n",
    "You have a hypothesis about what's wrong. Now try to fix it. When you're done you should call your test function again. You may want to remove (or comment out) the line you added to `localizer.py` that says `pdb.set_trace()` so your test can run without you having to type `c` into the debugger box."
   ]
  },
  {
   "cell_type": "code",
   "execution_count": 13,
   "metadata": {},
   "outputs": [],
   "source": [
    "test_robot_works_in_rectangle_world()"
   ]
  },
  {
   "cell_type": "markdown",
   "metadata": {},
   "source": [
    "## Congratulations!\n",
    "You've implemented your first feature and successfully debugged a problem the robot was having with rectangular environments. Well done."
   ]
  },
  {
   "cell_type": "code",
   "execution_count": null,
   "metadata": {},
   "outputs": [],
   "source": []
  }
 ],
 "metadata": {
  "kernelspec": {
   "display_name": "Python 2",
   "language": "python",
   "name": "python2"
  },
  "language_info": {
   "codemirror_mode": {
    "name": "ipython",
    "version": 2
   },
   "file_extension": ".py",
   "mimetype": "text/x-python",
   "name": "python",
   "nbconvert_exporter": "python",
   "pygments_lexer": "ipython2",
   "version": "2.7.15"
  }
 },
 "nbformat": 4,
 "nbformat_minor": 2
}
