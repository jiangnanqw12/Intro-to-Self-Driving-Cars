{
 "cells": [
  {
   "cell_type": "markdown",
   "metadata": {},
   "source": [
    "### TODO\n",
    "0. Keep working off the ball throwing example. Write code that \n",
    "  1. zooms in on a specified window\n",
    "  2. gets slope near point\n",
    "  3. plots tangent line\n",
    "1. Last time you saw continuous trajectories w/ a known equation...\n",
    "2. Which meant that we could just read off position and velocity\n",
    "3. All trajectories are continuous... but they don't have a known equation.\n"
   ]
  },
  {
   "cell_type": "code",
   "execution_count": null,
   "metadata": {},
   "outputs": [],
   "source": []
  }
 ],
 "metadata": {
  "kernelspec": {
   "display_name": "Python 3",
   "language": "python",
   "name": "python3"
  },
  "language_info": {
   "codemirror_mode": {
    "name": "ipython",
    "version": 3
   },
   "file_extension": ".py",
   "mimetype": "text/x-python",
   "name": "python",
   "nbconvert_exporter": "python",
   "pygments_lexer": "ipython3",
   "version": "3.6.3"
  }
 },
 "nbformat": 4,
 "nbformat_minor": 2
}
